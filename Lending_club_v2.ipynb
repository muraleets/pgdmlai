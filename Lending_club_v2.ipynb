{
 "cells": [
  {
   "cell_type": "markdown",
   "metadata": {},
   "source": [
    "- Load datafile and data dictionary to dataframe\n",
    "- Loading data dictionary as we may remove columns,it is easier to \n",
    "  get the list of remaining ones programattically.\n",
    "\n",
    "Dataframes:<br>\n",
    "LC - for lending club data<br>\n",
    "DD - for data dictionary"
   ]
  },
  {
   "cell_type": "code",
   "execution_count": 1,
   "metadata": {},
   "outputs": [],
   "source": [
    "import pandas as pd\n",
    "\n",
    "LC = pd.read_csv(\"loan.csv\", encoding=\"UTF-8\",low_memory=False)\n",
    "DD = pd.read_csv(\"LoanStats.csv\", encoding=\"UTF-8\",low_memory=False)"
   ]
  },
  {
   "cell_type": "markdown",
   "metadata": {},
   "source": [
    "- Cleanup data dictionay frame to ensure only relevant rows are present\n",
    "\n",
    " - Remove null rows\n",
    " - Remove rows where field name is null\n",
    "\n",
    "Expecting the shape to be 115X2 after cleanup"
   ]
  },
  {
   "cell_type": "code",
   "execution_count": 2,
   "metadata": {},
   "outputs": [
    {
     "data": {
      "text/plain": [
       "(115, 2)"
      ]
     },
     "execution_count": 2,
     "metadata": {},
     "output_type": "execute_result"
    }
   ],
   "source": [
    "DD=DD.loc[:,DD.isnull().sum()<100]\n",
    "DD=DD.rename(columns={\"LoanStatNew\":\"param_name\"})\n",
    "DD=DD.loc[~DD[\"param_name\"].isnull()]\n",
    "DD.shape"
   ]
  },
  {
   "cell_type": "markdown",
   "metadata": {},
   "source": [
    "### Cleanup lending club data\n",
    "\n",
    "- Check for columns with all NaN values"
   ]
  },
  {
   "cell_type": "code",
   "execution_count": 3,
   "metadata": {},
   "outputs": [
    {
     "data": {
      "text/html": [
       "<div>\n",
       "<style scoped>\n",
       "    .dataframe tbody tr th:only-of-type {\n",
       "        vertical-align: middle;\n",
       "    }\n",
       "\n",
       "    .dataframe tbody tr th {\n",
       "        vertical-align: top;\n",
       "    }\n",
       "\n",
       "    .dataframe thead th {\n",
       "        text-align: right;\n",
       "    }\n",
       "</style>\n",
       "<table border=\"1\" class=\"dataframe\">\n",
       "  <thead>\n",
       "    <tr style=\"text-align: right;\">\n",
       "      <th></th>\n",
       "      <th>index</th>\n",
       "      <th>nancount</th>\n",
       "    </tr>\n",
       "  </thead>\n",
       "  <tbody>\n",
       "    <tr>\n",
       "      <th>50</th>\n",
       "      <td>mths_since_last_major_derog</td>\n",
       "      <td>39717</td>\n",
       "    </tr>\n",
       "    <tr>\n",
       "      <th>53</th>\n",
       "      <td>annual_inc_joint</td>\n",
       "      <td>39717</td>\n",
       "    </tr>\n",
       "    <tr>\n",
       "      <th>54</th>\n",
       "      <td>dti_joint</td>\n",
       "      <td>39717</td>\n",
       "    </tr>\n",
       "    <tr>\n",
       "      <th>55</th>\n",
       "      <td>verification_status_joint</td>\n",
       "      <td>39717</td>\n",
       "    </tr>\n",
       "    <tr>\n",
       "      <th>57</th>\n",
       "      <td>tot_coll_amt</td>\n",
       "      <td>39717</td>\n",
       "    </tr>\n",
       "    <tr>\n",
       "      <th>58</th>\n",
       "      <td>tot_cur_bal</td>\n",
       "      <td>39717</td>\n",
       "    </tr>\n",
       "    <tr>\n",
       "      <th>59</th>\n",
       "      <td>open_acc_6m</td>\n",
       "      <td>39717</td>\n",
       "    </tr>\n",
       "    <tr>\n",
       "      <th>60</th>\n",
       "      <td>open_il_6m</td>\n",
       "      <td>39717</td>\n",
       "    </tr>\n",
       "    <tr>\n",
       "      <th>61</th>\n",
       "      <td>open_il_12m</td>\n",
       "      <td>39717</td>\n",
       "    </tr>\n",
       "    <tr>\n",
       "      <th>62</th>\n",
       "      <td>open_il_24m</td>\n",
       "      <td>39717</td>\n",
       "    </tr>\n",
       "    <tr>\n",
       "      <th>63</th>\n",
       "      <td>mths_since_rcnt_il</td>\n",
       "      <td>39717</td>\n",
       "    </tr>\n",
       "    <tr>\n",
       "      <th>64</th>\n",
       "      <td>total_bal_il</td>\n",
       "      <td>39717</td>\n",
       "    </tr>\n",
       "    <tr>\n",
       "      <th>65</th>\n",
       "      <td>il_util</td>\n",
       "      <td>39717</td>\n",
       "    </tr>\n",
       "    <tr>\n",
       "      <th>66</th>\n",
       "      <td>open_rv_12m</td>\n",
       "      <td>39717</td>\n",
       "    </tr>\n",
       "    <tr>\n",
       "      <th>67</th>\n",
       "      <td>open_rv_24m</td>\n",
       "      <td>39717</td>\n",
       "    </tr>\n",
       "    <tr>\n",
       "      <th>68</th>\n",
       "      <td>max_bal_bc</td>\n",
       "      <td>39717</td>\n",
       "    </tr>\n",
       "    <tr>\n",
       "      <th>69</th>\n",
       "      <td>all_util</td>\n",
       "      <td>39717</td>\n",
       "    </tr>\n",
       "    <tr>\n",
       "      <th>70</th>\n",
       "      <td>total_rev_hi_lim</td>\n",
       "      <td>39717</td>\n",
       "    </tr>\n",
       "    <tr>\n",
       "      <th>71</th>\n",
       "      <td>inq_fi</td>\n",
       "      <td>39717</td>\n",
       "    </tr>\n",
       "    <tr>\n",
       "      <th>72</th>\n",
       "      <td>total_cu_tl</td>\n",
       "      <td>39717</td>\n",
       "    </tr>\n",
       "    <tr>\n",
       "      <th>73</th>\n",
       "      <td>inq_last_12m</td>\n",
       "      <td>39717</td>\n",
       "    </tr>\n",
       "    <tr>\n",
       "      <th>74</th>\n",
       "      <td>acc_open_past_24mths</td>\n",
       "      <td>39717</td>\n",
       "    </tr>\n",
       "    <tr>\n",
       "      <th>75</th>\n",
       "      <td>avg_cur_bal</td>\n",
       "      <td>39717</td>\n",
       "    </tr>\n",
       "    <tr>\n",
       "      <th>76</th>\n",
       "      <td>bc_open_to_buy</td>\n",
       "      <td>39717</td>\n",
       "    </tr>\n",
       "    <tr>\n",
       "      <th>77</th>\n",
       "      <td>bc_util</td>\n",
       "      <td>39717</td>\n",
       "    </tr>\n",
       "    <tr>\n",
       "      <th>80</th>\n",
       "      <td>mo_sin_old_il_acct</td>\n",
       "      <td>39717</td>\n",
       "    </tr>\n",
       "    <tr>\n",
       "      <th>81</th>\n",
       "      <td>mo_sin_old_rev_tl_op</td>\n",
       "      <td>39717</td>\n",
       "    </tr>\n",
       "    <tr>\n",
       "      <th>82</th>\n",
       "      <td>mo_sin_rcnt_rev_tl_op</td>\n",
       "      <td>39717</td>\n",
       "    </tr>\n",
       "    <tr>\n",
       "      <th>83</th>\n",
       "      <td>mo_sin_rcnt_tl</td>\n",
       "      <td>39717</td>\n",
       "    </tr>\n",
       "    <tr>\n",
       "      <th>84</th>\n",
       "      <td>mort_acc</td>\n",
       "      <td>39717</td>\n",
       "    </tr>\n",
       "    <tr>\n",
       "      <th>85</th>\n",
       "      <td>mths_since_recent_bc</td>\n",
       "      <td>39717</td>\n",
       "    </tr>\n",
       "    <tr>\n",
       "      <th>86</th>\n",
       "      <td>mths_since_recent_bc_dlq</td>\n",
       "      <td>39717</td>\n",
       "    </tr>\n",
       "    <tr>\n",
       "      <th>87</th>\n",
       "      <td>mths_since_recent_inq</td>\n",
       "      <td>39717</td>\n",
       "    </tr>\n",
       "    <tr>\n",
       "      <th>88</th>\n",
       "      <td>mths_since_recent_revol_delinq</td>\n",
       "      <td>39717</td>\n",
       "    </tr>\n",
       "    <tr>\n",
       "      <th>89</th>\n",
       "      <td>num_accts_ever_120_pd</td>\n",
       "      <td>39717</td>\n",
       "    </tr>\n",
       "    <tr>\n",
       "      <th>90</th>\n",
       "      <td>num_actv_bc_tl</td>\n",
       "      <td>39717</td>\n",
       "    </tr>\n",
       "    <tr>\n",
       "      <th>91</th>\n",
       "      <td>num_actv_rev_tl</td>\n",
       "      <td>39717</td>\n",
       "    </tr>\n",
       "    <tr>\n",
       "      <th>92</th>\n",
       "      <td>num_bc_sats</td>\n",
       "      <td>39717</td>\n",
       "    </tr>\n",
       "    <tr>\n",
       "      <th>93</th>\n",
       "      <td>num_bc_tl</td>\n",
       "      <td>39717</td>\n",
       "    </tr>\n",
       "    <tr>\n",
       "      <th>94</th>\n",
       "      <td>num_il_tl</td>\n",
       "      <td>39717</td>\n",
       "    </tr>\n",
       "    <tr>\n",
       "      <th>95</th>\n",
       "      <td>num_op_rev_tl</td>\n",
       "      <td>39717</td>\n",
       "    </tr>\n",
       "    <tr>\n",
       "      <th>96</th>\n",
       "      <td>num_rev_accts</td>\n",
       "      <td>39717</td>\n",
       "    </tr>\n",
       "    <tr>\n",
       "      <th>97</th>\n",
       "      <td>num_rev_tl_bal_gt_0</td>\n",
       "      <td>39717</td>\n",
       "    </tr>\n",
       "    <tr>\n",
       "      <th>98</th>\n",
       "      <td>num_sats</td>\n",
       "      <td>39717</td>\n",
       "    </tr>\n",
       "    <tr>\n",
       "      <th>99</th>\n",
       "      <td>num_tl_120dpd_2m</td>\n",
       "      <td>39717</td>\n",
       "    </tr>\n",
       "    <tr>\n",
       "      <th>100</th>\n",
       "      <td>num_tl_30dpd</td>\n",
       "      <td>39717</td>\n",
       "    </tr>\n",
       "    <tr>\n",
       "      <th>101</th>\n",
       "      <td>num_tl_90g_dpd_24m</td>\n",
       "      <td>39717</td>\n",
       "    </tr>\n",
       "    <tr>\n",
       "      <th>102</th>\n",
       "      <td>num_tl_op_past_12m</td>\n",
       "      <td>39717</td>\n",
       "    </tr>\n",
       "    <tr>\n",
       "      <th>103</th>\n",
       "      <td>pct_tl_nvr_dlq</td>\n",
       "      <td>39717</td>\n",
       "    </tr>\n",
       "    <tr>\n",
       "      <th>104</th>\n",
       "      <td>percent_bc_gt_75</td>\n",
       "      <td>39717</td>\n",
       "    </tr>\n",
       "    <tr>\n",
       "      <th>107</th>\n",
       "      <td>tot_hi_cred_lim</td>\n",
       "      <td>39717</td>\n",
       "    </tr>\n",
       "    <tr>\n",
       "      <th>108</th>\n",
       "      <td>total_bal_ex_mort</td>\n",
       "      <td>39717</td>\n",
       "    </tr>\n",
       "    <tr>\n",
       "      <th>109</th>\n",
       "      <td>total_bc_limit</td>\n",
       "      <td>39717</td>\n",
       "    </tr>\n",
       "    <tr>\n",
       "      <th>110</th>\n",
       "      <td>total_il_high_credit_limit</td>\n",
       "      <td>39717</td>\n",
       "    </tr>\n",
       "  </tbody>\n",
       "</table>\n",
       "</div>"
      ],
      "text/plain": [
       "                              index  nancount\n",
       "50      mths_since_last_major_derog     39717\n",
       "53                 annual_inc_joint     39717\n",
       "54                        dti_joint     39717\n",
       "55        verification_status_joint     39717\n",
       "57                     tot_coll_amt     39717\n",
       "58                      tot_cur_bal     39717\n",
       "59                      open_acc_6m     39717\n",
       "60                       open_il_6m     39717\n",
       "61                      open_il_12m     39717\n",
       "62                      open_il_24m     39717\n",
       "63               mths_since_rcnt_il     39717\n",
       "64                     total_bal_il     39717\n",
       "65                          il_util     39717\n",
       "66                      open_rv_12m     39717\n",
       "67                      open_rv_24m     39717\n",
       "68                       max_bal_bc     39717\n",
       "69                         all_util     39717\n",
       "70                 total_rev_hi_lim     39717\n",
       "71                           inq_fi     39717\n",
       "72                      total_cu_tl     39717\n",
       "73                     inq_last_12m     39717\n",
       "74             acc_open_past_24mths     39717\n",
       "75                      avg_cur_bal     39717\n",
       "76                   bc_open_to_buy     39717\n",
       "77                          bc_util     39717\n",
       "80               mo_sin_old_il_acct     39717\n",
       "81             mo_sin_old_rev_tl_op     39717\n",
       "82            mo_sin_rcnt_rev_tl_op     39717\n",
       "83                   mo_sin_rcnt_tl     39717\n",
       "84                         mort_acc     39717\n",
       "85             mths_since_recent_bc     39717\n",
       "86         mths_since_recent_bc_dlq     39717\n",
       "87            mths_since_recent_inq     39717\n",
       "88   mths_since_recent_revol_delinq     39717\n",
       "89            num_accts_ever_120_pd     39717\n",
       "90                   num_actv_bc_tl     39717\n",
       "91                  num_actv_rev_tl     39717\n",
       "92                      num_bc_sats     39717\n",
       "93                        num_bc_tl     39717\n",
       "94                        num_il_tl     39717\n",
       "95                    num_op_rev_tl     39717\n",
       "96                    num_rev_accts     39717\n",
       "97              num_rev_tl_bal_gt_0     39717\n",
       "98                         num_sats     39717\n",
       "99                 num_tl_120dpd_2m     39717\n",
       "100                    num_tl_30dpd     39717\n",
       "101              num_tl_90g_dpd_24m     39717\n",
       "102              num_tl_op_past_12m     39717\n",
       "103                  pct_tl_nvr_dlq     39717\n",
       "104                percent_bc_gt_75     39717\n",
       "107                 tot_hi_cred_lim     39717\n",
       "108               total_bal_ex_mort     39717\n",
       "109                  total_bc_limit     39717\n",
       "110      total_il_high_credit_limit     39717"
      ]
     },
     "execution_count": 3,
     "metadata": {},
     "output_type": "execute_result"
    }
   ],
   "source": [
    "LCN=LC.isnull().sum().reset_index()\n",
    "LCN=LCN.rename(columns={0:\"nancount\"})\n",
    "LCN.loc[LCN[\"nancount\"]==LC[\"id\"].count()]"
   ]
  },
  {
   "cell_type": "markdown",
   "metadata": {},
   "source": [
    "- Remove columns where we have all NaN values"
   ]
  },
  {
   "cell_type": "code",
   "execution_count": 4,
   "metadata": {},
   "outputs": [],
   "source": [
    "LC=LC.loc[:,LC.isnull().sum()<len(LC.index)]"
   ]
  },
  {
   "cell_type": "code",
   "execution_count": 5,
   "metadata": {},
   "outputs": [
    {
     "data": {
      "text/plain": [
       "(39717, 57)"
      ]
     },
     "execution_count": 5,
     "metadata": {},
     "output_type": "execute_result"
    }
   ],
   "source": [
    "LC.shape"
   ]
  },
  {
   "cell_type": "markdown",
   "metadata": {},
   "source": [
    "- Check for columns with more than 50% NaN values"
   ]
  },
  {
   "cell_type": "code",
   "execution_count": 6,
   "metadata": {},
   "outputs": [
    {
     "data": {
      "text/html": [
       "<div>\n",
       "<style scoped>\n",
       "    .dataframe tbody tr th:only-of-type {\n",
       "        vertical-align: middle;\n",
       "    }\n",
       "\n",
       "    .dataframe tbody tr th {\n",
       "        vertical-align: top;\n",
       "    }\n",
       "\n",
       "    .dataframe thead th {\n",
       "        text-align: right;\n",
       "    }\n",
       "</style>\n",
       "<table border=\"1\" class=\"dataframe\">\n",
       "  <thead>\n",
       "    <tr style=\"text-align: right;\">\n",
       "      <th></th>\n",
       "      <th>index</th>\n",
       "      <th>nancount</th>\n",
       "    </tr>\n",
       "  </thead>\n",
       "  <tbody>\n",
       "    <tr>\n",
       "      <th>28</th>\n",
       "      <td>mths_since_last_delinq</td>\n",
       "      <td>25682</td>\n",
       "    </tr>\n",
       "    <tr>\n",
       "      <th>29</th>\n",
       "      <td>mths_since_last_record</td>\n",
       "      <td>36931</td>\n",
       "    </tr>\n",
       "    <tr>\n",
       "      <th>47</th>\n",
       "      <td>next_pymnt_d</td>\n",
       "      <td>38577</td>\n",
       "    </tr>\n",
       "  </tbody>\n",
       "</table>\n",
       "</div>"
      ],
      "text/plain": [
       "                     index  nancount\n",
       "28  mths_since_last_delinq     25682\n",
       "29  mths_since_last_record     36931\n",
       "47            next_pymnt_d     38577"
      ]
     },
     "execution_count": 6,
     "metadata": {},
     "output_type": "execute_result"
    }
   ],
   "source": [
    "LCN=LC.isnull().sum().reset_index()\n",
    "LCN=LCN.rename(columns={0:\"nancount\"})\n",
    "LCN.loc[LCN[\"nancount\"]>len(LC.index)*0.5]"
   ]
  },
  {
   "cell_type": "markdown",
   "metadata": {},
   "source": [
    "- Get more details about mths_since_last_delinq to see if it would be useful\n",
    " - Check if we have enough non null values that may be useful"
   ]
  },
  {
   "cell_type": "code",
   "execution_count": 7,
   "metadata": {},
   "outputs": [
    {
     "data": {
      "text/plain": [
       "loan_status\n",
       "Charged Off     2142\n",
       "Current          363\n",
       "Fully Paid     11530\n",
       "Name: id, dtype: int64"
      ]
     },
     "execution_count": 7,
     "metadata": {},
     "output_type": "execute_result"
    }
   ],
   "source": [
    "LC.loc[~LC[\"mths_since_last_delinq\"].isnull()].groupby(\"loan_status\")[\"id\"].count()"
   ]
  },
  {
   "cell_type": "markdown",
   "metadata": {},
   "source": [
    "- Let's see if we many records we have for each loan status"
   ]
  },
  {
   "cell_type": "code",
   "execution_count": 8,
   "metadata": {},
   "outputs": [
    {
     "data": {
      "text/plain": [
       "loan_status\n",
       "Fully Paid     32950\n",
       "Charged Off     5627\n",
       "Current         1140\n",
       "Name: id, dtype: int64"
      ]
     },
     "execution_count": 8,
     "metadata": {},
     "output_type": "execute_result"
    }
   ],
   "source": [
    "LC.groupby([\"loan_status\"]).count()[\"id\"].sort_values(ascending=False)"
   ]
  },
  {
   "cell_type": "markdown",
   "metadata": {},
   "source": [
    "Will keep mths_since_last_delinq for now.\n",
    "- Drop mths_since_last_record,next_pymnt_d since they have too many null values"
   ]
  },
  {
   "cell_type": "code",
   "execution_count": 9,
   "metadata": {},
   "outputs": [],
   "source": [
    "LC=LC.drop(columns=[\"mths_since_last_record\",\"next_pymnt_d\"])"
   ]
  },
  {
   "cell_type": "code",
   "execution_count": 10,
   "metadata": {},
   "outputs": [
    {
     "data": {
      "text/plain": [
       "(39717, 55)"
      ]
     },
     "execution_count": 10,
     "metadata": {},
     "output_type": "execute_result"
    }
   ],
   "source": [
    "LC.shape"
   ]
  },
  {
   "cell_type": "markdown",
   "metadata": {},
   "source": [
    "- purpose and title look similar, purpose seem well defined"
   ]
  },
  {
   "cell_type": "code",
   "execution_count": 11,
   "metadata": {},
   "outputs": [
    {
     "data": {
      "text/html": [
       "<div>\n",
       "<style scoped>\n",
       "    .dataframe tbody tr th:only-of-type {\n",
       "        vertical-align: middle;\n",
       "    }\n",
       "\n",
       "    .dataframe tbody tr th {\n",
       "        vertical-align: top;\n",
       "    }\n",
       "\n",
       "    .dataframe thead th {\n",
       "        text-align: right;\n",
       "    }\n",
       "</style>\n",
       "<table border=\"1\" class=\"dataframe\">\n",
       "  <thead>\n",
       "    <tr style=\"text-align: right;\">\n",
       "      <th></th>\n",
       "      <th>purpose</th>\n",
       "      <th>title</th>\n",
       "    </tr>\n",
       "  </thead>\n",
       "  <tbody>\n",
       "    <tr>\n",
       "      <th>0</th>\n",
       "      <td>credit_card</td>\n",
       "      <td>Computer</td>\n",
       "    </tr>\n",
       "    <tr>\n",
       "      <th>1</th>\n",
       "      <td>car</td>\n",
       "      <td>bike</td>\n",
       "    </tr>\n",
       "    <tr>\n",
       "      <th>2</th>\n",
       "      <td>small_business</td>\n",
       "      <td>real estate business</td>\n",
       "    </tr>\n",
       "    <tr>\n",
       "      <th>3</th>\n",
       "      <td>other</td>\n",
       "      <td>personel</td>\n",
       "    </tr>\n",
       "    <tr>\n",
       "      <th>4</th>\n",
       "      <td>other</td>\n",
       "      <td>Personal</td>\n",
       "    </tr>\n",
       "    <tr>\n",
       "      <th>...</th>\n",
       "      <td>...</td>\n",
       "      <td>...</td>\n",
       "    </tr>\n",
       "    <tr>\n",
       "      <th>39712</th>\n",
       "      <td>home_improvement</td>\n",
       "      <td>Home Improvement</td>\n",
       "    </tr>\n",
       "    <tr>\n",
       "      <th>39713</th>\n",
       "      <td>credit_card</td>\n",
       "      <td>Retiring credit card debt</td>\n",
       "    </tr>\n",
       "    <tr>\n",
       "      <th>39714</th>\n",
       "      <td>debt_consolidation</td>\n",
       "      <td>MBA Loan Consolidation</td>\n",
       "    </tr>\n",
       "    <tr>\n",
       "      <th>39715</th>\n",
       "      <td>other</td>\n",
       "      <td>JAL Loan</td>\n",
       "    </tr>\n",
       "    <tr>\n",
       "      <th>39716</th>\n",
       "      <td>debt_consolidation</td>\n",
       "      <td>Consolidation Loan</td>\n",
       "    </tr>\n",
       "  </tbody>\n",
       "</table>\n",
       "<p>39717 rows × 2 columns</p>\n",
       "</div>"
      ],
      "text/plain": [
       "                  purpose                      title\n",
       "0             credit_card                   Computer\n",
       "1                     car                       bike\n",
       "2          small_business       real estate business\n",
       "3                   other                   personel\n",
       "4                   other                   Personal\n",
       "...                   ...                        ...\n",
       "39712    home_improvement           Home Improvement\n",
       "39713         credit_card  Retiring credit card debt\n",
       "39714  debt_consolidation     MBA Loan Consolidation\n",
       "39715               other                   JAL Loan\n",
       "39716  debt_consolidation         Consolidation Loan\n",
       "\n",
       "[39717 rows x 2 columns]"
      ]
     },
     "execution_count": 11,
     "metadata": {},
     "output_type": "execute_result"
    }
   ],
   "source": [
    "LC[[\"purpose\", \"title\"]]"
   ]
  },
  {
   "cell_type": "markdown",
   "metadata": {},
   "source": [
    "- Drop \"title\" column"
   ]
  },
  {
   "cell_type": "code",
   "execution_count": 12,
   "metadata": {},
   "outputs": [],
   "source": [
    "LC=LC.drop(columns=[\"title\"])"
   ]
  },
  {
   "cell_type": "markdown",
   "metadata": {},
   "source": [
    "- Check values we have in column initial_list_status"
   ]
  },
  {
   "cell_type": "code",
   "execution_count": 13,
   "metadata": {},
   "outputs": [
    {
     "data": {
      "text/plain": [
       "0    39717\n",
       "Name: id, dtype: int64"
      ]
     },
     "execution_count": 13,
     "metadata": {},
     "output_type": "execute_result"
    }
   ],
   "source": [
    "LC.groupby(\"initial_list_status\").count().reset_index()[\"id\"]"
   ]
  },
  {
   "cell_type": "markdown",
   "metadata": {},
   "source": [
    "- Drop initial_list_status as it is all zeros"
   ]
  },
  {
   "cell_type": "code",
   "execution_count": 14,
   "metadata": {},
   "outputs": [],
   "source": [
    "LC=LC.drop(columns=[\"initial_list_status\"])"
   ]
  },
  {
   "cell_type": "markdown",
   "metadata": {},
   "source": [
    "- Check values in column \"desc\""
   ]
  },
  {
   "cell_type": "code",
   "execution_count": 15,
   "metadata": {},
   "outputs": [
    {
     "data": {
      "text/plain": [
       "0          Borrower added on 12/22/11 > I need to upgra...\n",
       "1          Borrower added on 12/22/11 > I plan to use t...\n",
       "2                                                      NaN\n",
       "3          Borrower added on 12/21/11 > to pay for prop...\n",
       "4          Borrower added on 12/21/11 > I plan on combi...\n",
       "                               ...                        \n",
       "39712    Our current gutter system on our home is old a...\n",
       "39713    The rate of interest and fees incurred by carr...\n",
       "39714                                                  NaN\n",
       "39715                                                  NaN\n",
       "39716    I plan to consolidate over $7,000 of debt: a c...\n",
       "Name: desc, Length: 39717, dtype: object"
      ]
     },
     "execution_count": 15,
     "metadata": {},
     "output_type": "execute_result"
    }
   ],
   "source": [
    "LC[\"desc\"]"
   ]
  },
  {
   "cell_type": "markdown",
   "metadata": {},
   "source": [
    "- Too descriptive, hard to glean any useful data, drop column \"desc\""
   ]
  },
  {
   "cell_type": "code",
   "execution_count": 16,
   "metadata": {},
   "outputs": [],
   "source": [
    "LC=LC.drop(columns=[\"desc\"])"
   ]
  },
  {
   "cell_type": "markdown",
   "metadata": {},
   "source": [
    "- Check values in column \"pymnt_plan\""
   ]
  },
  {
   "cell_type": "code",
   "execution_count": 17,
   "metadata": {},
   "outputs": [
    {
     "data": {
      "text/plain": [
       "0    39717\n",
       "Name: id, dtype: int64"
      ]
     },
     "execution_count": 17,
     "metadata": {},
     "output_type": "execute_result"
    }
   ],
   "source": [
    "LC.groupby(\"pymnt_plan\").count().reset_index()[\"id\"]"
   ]
  },
  {
   "cell_type": "markdown",
   "metadata": {},
   "source": [
    "- Check if url is useful as we already have a \"id\" column"
   ]
  },
  {
   "cell_type": "code",
   "execution_count": 18,
   "metadata": {},
   "outputs": [
    {
     "data": {
      "text/html": [
       "<div>\n",
       "<style scoped>\n",
       "    .dataframe tbody tr th:only-of-type {\n",
       "        vertical-align: middle;\n",
       "    }\n",
       "\n",
       "    .dataframe tbody tr th {\n",
       "        vertical-align: top;\n",
       "    }\n",
       "\n",
       "    .dataframe thead th {\n",
       "        text-align: right;\n",
       "    }\n",
       "</style>\n",
       "<table border=\"1\" class=\"dataframe\">\n",
       "  <thead>\n",
       "    <tr style=\"text-align: right;\">\n",
       "      <th></th>\n",
       "      <th>id</th>\n",
       "      <th>urlid</th>\n",
       "    </tr>\n",
       "  </thead>\n",
       "  <tbody>\n",
       "  </tbody>\n",
       "</table>\n",
       "</div>"
      ],
      "text/plain": [
       "Empty DataFrame\n",
       "Columns: [id, urlid]\n",
       "Index: []"
      ]
     },
     "execution_count": 18,
     "metadata": {},
     "output_type": "execute_result"
    }
   ],
   "source": [
    "LC[\"urlid\"] = pd.to_numeric(LC[\"url\"].str.split(\"=\").str[-1])\n",
    "\n",
    "LC.loc[LC[\"id\"]!=LC[\"urlid\"]][[\"id\",\"urlid\"]]"
   ]
  },
  {
   "cell_type": "markdown",
   "metadata": {},
   "source": [
    "- Drop url and pyment_plan columns as it doesn't have useful info"
   ]
  },
  {
   "cell_type": "code",
   "execution_count": 19,
   "metadata": {},
   "outputs": [],
   "source": [
    "LC=LC.drop(columns=[\"url\",\"urlid\",\"pymnt_plan\"])"
   ]
  },
  {
   "cell_type": "markdown",
   "metadata": {},
   "source": [
    "- Check remaining null values"
   ]
  },
  {
   "cell_type": "code",
   "execution_count": 20,
   "metadata": {},
   "outputs": [
    {
     "data": {
      "text/html": [
       "<div>\n",
       "<style scoped>\n",
       "    .dataframe tbody tr th:only-of-type {\n",
       "        vertical-align: middle;\n",
       "    }\n",
       "\n",
       "    .dataframe tbody tr th {\n",
       "        vertical-align: top;\n",
       "    }\n",
       "\n",
       "    .dataframe thead th {\n",
       "        text-align: right;\n",
       "    }\n",
       "</style>\n",
       "<table border=\"1\" class=\"dataframe\">\n",
       "  <thead>\n",
       "    <tr style=\"text-align: right;\">\n",
       "      <th></th>\n",
       "      <th>index</th>\n",
       "      <th>nancount</th>\n",
       "    </tr>\n",
       "  </thead>\n",
       "  <tbody>\n",
       "    <tr>\n",
       "      <th>10</th>\n",
       "      <td>emp_title</td>\n",
       "      <td>2459</td>\n",
       "    </tr>\n",
       "    <tr>\n",
       "      <th>11</th>\n",
       "      <td>emp_length</td>\n",
       "      <td>1075</td>\n",
       "    </tr>\n",
       "    <tr>\n",
       "      <th>24</th>\n",
       "      <td>mths_since_last_delinq</td>\n",
       "      <td>25682</td>\n",
       "    </tr>\n",
       "    <tr>\n",
       "      <th>28</th>\n",
       "      <td>revol_util</td>\n",
       "      <td>50</td>\n",
       "    </tr>\n",
       "    <tr>\n",
       "      <th>39</th>\n",
       "      <td>last_pymnt_d</td>\n",
       "      <td>71</td>\n",
       "    </tr>\n",
       "    <tr>\n",
       "      <th>41</th>\n",
       "      <td>last_credit_pull_d</td>\n",
       "      <td>2</td>\n",
       "    </tr>\n",
       "    <tr>\n",
       "      <th>42</th>\n",
       "      <td>collections_12_mths_ex_med</td>\n",
       "      <td>56</td>\n",
       "    </tr>\n",
       "    <tr>\n",
       "      <th>46</th>\n",
       "      <td>chargeoff_within_12_mths</td>\n",
       "      <td>56</td>\n",
       "    </tr>\n",
       "    <tr>\n",
       "      <th>48</th>\n",
       "      <td>pub_rec_bankruptcies</td>\n",
       "      <td>697</td>\n",
       "    </tr>\n",
       "    <tr>\n",
       "      <th>49</th>\n",
       "      <td>tax_liens</td>\n",
       "      <td>39</td>\n",
       "    </tr>\n",
       "  </tbody>\n",
       "</table>\n",
       "</div>"
      ],
      "text/plain": [
       "                         index  nancount\n",
       "10                   emp_title      2459\n",
       "11                  emp_length      1075\n",
       "24      mths_since_last_delinq     25682\n",
       "28                  revol_util        50\n",
       "39                last_pymnt_d        71\n",
       "41          last_credit_pull_d         2\n",
       "42  collections_12_mths_ex_med        56\n",
       "46    chargeoff_within_12_mths        56\n",
       "48        pub_rec_bankruptcies       697\n",
       "49                   tax_liens        39"
      ]
     },
     "execution_count": 20,
     "metadata": {},
     "output_type": "execute_result"
    }
   ],
   "source": [
    "LCN=LC.isnull().sum().reset_index()\n",
    "LCN=LCN.rename(columns={0:\"nancount\"})\n",
    "LCN.loc[LCN[\"nancount\"]>0]"
   ]
  },
  {
   "cell_type": "markdown",
   "metadata": {},
   "source": [
    "- Check for tax_liens column, drop if not useful"
   ]
  },
  {
   "cell_type": "code",
   "execution_count": 21,
   "metadata": {},
   "outputs": [
    {
     "data": {
      "text/plain": [
       "tax_liens\n",
       "0.0    39678\n",
       "Name: id, dtype: int64"
      ]
     },
     "execution_count": 21,
     "metadata": {},
     "output_type": "execute_result"
    }
   ],
   "source": [
    "LC.groupby(\"tax_liens\").count()[\"id\"]"
   ]
  },
  {
   "cell_type": "code",
   "execution_count": 22,
   "metadata": {},
   "outputs": [],
   "source": [
    "LC=LC.drop(columns=[\"tax_liens\"])"
   ]
  },
  {
   "cell_type": "markdown",
   "metadata": {},
   "source": [
    "- Do the same for collections_12_mths_ex_med"
   ]
  },
  {
   "cell_type": "code",
   "execution_count": 23,
   "metadata": {},
   "outputs": [
    {
     "data": {
      "text/plain": [
       "collections_12_mths_ex_med\n",
       "0.0    39661\n",
       "Name: id, dtype: int64"
      ]
     },
     "execution_count": 23,
     "metadata": {},
     "output_type": "execute_result"
    }
   ],
   "source": [
    "LC.groupby(\"collections_12_mths_ex_med\").count()[\"id\"]"
   ]
  },
  {
   "cell_type": "code",
   "execution_count": 24,
   "metadata": {},
   "outputs": [],
   "source": [
    "LC=LC.drop(columns=[\"collections_12_mths_ex_med\"])"
   ]
  },
  {
   "cell_type": "markdown",
   "metadata": {},
   "source": [
    "- Do the same for chargeoff_within_12_mths"
   ]
  },
  {
   "cell_type": "code",
   "execution_count": 25,
   "metadata": {},
   "outputs": [
    {
     "data": {
      "text/plain": [
       "chargeoff_within_12_mths\n",
       "0.0    39661\n",
       "Name: id, dtype: int64"
      ]
     },
     "execution_count": 25,
     "metadata": {},
     "output_type": "execute_result"
    }
   ],
   "source": [
    "LC.groupby(\"chargeoff_within_12_mths\").count()[\"id\"]"
   ]
  },
  {
   "cell_type": "code",
   "execution_count": 26,
   "metadata": {},
   "outputs": [],
   "source": [
    "LC=LC.drop(columns=[\"chargeoff_within_12_mths\"])"
   ]
  },
  {
   "cell_type": "markdown",
   "metadata": {},
   "source": [
    "- both id and member_id are unique values, we need only one, so, drop member_id"
   ]
  },
  {
   "cell_type": "code",
   "execution_count": 27,
   "metadata": {},
   "outputs": [
    {
     "data": {
      "text/plain": [
       "(39717, 46)"
      ]
     },
     "execution_count": 27,
     "metadata": {},
     "output_type": "execute_result"
    }
   ],
   "source": [
    "LC.groupby(\"member_id\").count().shape"
   ]
  },
  {
   "cell_type": "code",
   "execution_count": 28,
   "metadata": {},
   "outputs": [],
   "source": [
    "LC=LC.drop(columns=[\"member_id\"])"
   ]
  },
  {
   "cell_type": "markdown",
   "metadata": {},
   "source": [
    "- Check for column last_credit_pull_d, we are not imputing any value, will do it if it is useful later"
   ]
  },
  {
   "cell_type": "code",
   "execution_count": 29,
   "metadata": {},
   "outputs": [
    {
     "data": {
      "text/plain": [
       "39715"
      ]
     },
     "execution_count": 29,
     "metadata": {},
     "output_type": "execute_result"
    }
   ],
   "source": [
    "LC.groupby(\"last_credit_pull_d\").count()[\"id\"].sum()"
   ]
  },
  {
   "cell_type": "markdown",
   "metadata": {},
   "source": [
    "- impute a string to NaN values in emp_title"
   ]
  },
  {
   "cell_type": "code",
   "execution_count": 30,
   "metadata": {},
   "outputs": [],
   "source": [
    "import numpy as np\n",
    "LC[\"emp_title\"]=LC[\"emp_title\"].replace(np.nan, \"not available\")"
   ]
  },
  {
   "cell_type": "markdown",
   "metadata": {},
   "source": [
    "- Convert int_rate to a number as we need it for calculations"
   ]
  },
  {
   "cell_type": "code",
   "execution_count": 31,
   "metadata": {},
   "outputs": [],
   "source": [
    "LC[\"int_rate\"]=pd.to_numeric(LC[\"int_rate\"].str.rstrip('%'))"
   ]
  },
  {
   "cell_type": "markdown",
   "metadata": {},
   "source": [
    "- Check if delinq_amnt has useful values, drop if doesn't have"
   ]
  },
  {
   "cell_type": "code",
   "execution_count": 32,
   "metadata": {},
   "outputs": [
    {
     "data": {
      "text/html": [
       "<div>\n",
       "<style scoped>\n",
       "    .dataframe tbody tr th:only-of-type {\n",
       "        vertical-align: middle;\n",
       "    }\n",
       "\n",
       "    .dataframe tbody tr th {\n",
       "        vertical-align: top;\n",
       "    }\n",
       "\n",
       "    .dataframe thead th {\n",
       "        text-align: right;\n",
       "    }\n",
       "</style>\n",
       "<table border=\"1\" class=\"dataframe\">\n",
       "  <thead>\n",
       "    <tr style=\"text-align: right;\">\n",
       "      <th></th>\n",
       "      <th>id</th>\n",
       "      <th>loan_amnt</th>\n",
       "      <th>funded_amnt</th>\n",
       "      <th>funded_amnt_inv</th>\n",
       "      <th>term</th>\n",
       "      <th>int_rate</th>\n",
       "      <th>installment</th>\n",
       "      <th>grade</th>\n",
       "      <th>sub_grade</th>\n",
       "      <th>emp_title</th>\n",
       "      <th>...</th>\n",
       "      <th>recoveries</th>\n",
       "      <th>collection_recovery_fee</th>\n",
       "      <th>last_pymnt_d</th>\n",
       "      <th>last_pymnt_amnt</th>\n",
       "      <th>last_credit_pull_d</th>\n",
       "      <th>policy_code</th>\n",
       "      <th>application_type</th>\n",
       "      <th>acc_now_delinq</th>\n",
       "      <th>delinq_amnt</th>\n",
       "      <th>pub_rec_bankruptcies</th>\n",
       "    </tr>\n",
       "  </thead>\n",
       "  <tbody>\n",
       "  </tbody>\n",
       "</table>\n",
       "<p>0 rows × 46 columns</p>\n",
       "</div>"
      ],
      "text/plain": [
       "Empty DataFrame\n",
       "Columns: [id, loan_amnt, funded_amnt, funded_amnt_inv, term, int_rate, installment, grade, sub_grade, emp_title, emp_length, home_ownership, annual_inc, verification_status, issue_d, loan_status, purpose, zip_code, addr_state, dti, delinq_2yrs, earliest_cr_line, inq_last_6mths, mths_since_last_delinq, open_acc, pub_rec, revol_bal, revol_util, total_acc, out_prncp, out_prncp_inv, total_pymnt, total_pymnt_inv, total_rec_prncp, total_rec_int, total_rec_late_fee, recoveries, collection_recovery_fee, last_pymnt_d, last_pymnt_amnt, last_credit_pull_d, policy_code, application_type, acc_now_delinq, delinq_amnt, pub_rec_bankruptcies]\n",
       "Index: []\n",
       "\n",
       "[0 rows x 46 columns]"
      ]
     },
     "execution_count": 32,
     "metadata": {},
     "output_type": "execute_result"
    }
   ],
   "source": [
    "LC.loc[LC[\"delinq_amnt\"]!=0]"
   ]
  },
  {
   "cell_type": "code",
   "execution_count": 33,
   "metadata": {},
   "outputs": [],
   "source": [
    "LC=LC.drop(columns=[\"delinq_amnt\"])"
   ]
  },
  {
   "cell_type": "markdown",
   "metadata": {},
   "source": [
    "- Convert emplength to number, \">10\" will be 11, <1 would be 0.\n",
    "- Since these are not taken as exact values, we need a vlue for ordering them correctly"
   ]
  },
  {
   "cell_type": "code",
   "execution_count": 34,
   "metadata": {},
   "outputs": [],
   "source": [
    "LC[\"emp_length\"]=LC[\"emp_length\"].str.strip(\"years\").str.strip(\"year\").str.replace(\"10\\+\",\"11\").str.replace(\"< 1\",\"0\")"
   ]
  },
  {
   "cell_type": "code",
   "execution_count": 35,
   "metadata": {},
   "outputs": [],
   "source": [
    "LC[\"emp_length\"]=pd.to_numeric(LC[\"emp_length\"])"
   ]
  },
  {
   "cell_type": "markdown",
   "metadata": {},
   "source": [
    "- Get a list of columns with NaN at this point"
   ]
  },
  {
   "cell_type": "code",
   "execution_count": 36,
   "metadata": {},
   "outputs": [
    {
     "data": {
      "text/html": [
       "<div>\n",
       "<style scoped>\n",
       "    .dataframe tbody tr th:only-of-type {\n",
       "        vertical-align: middle;\n",
       "    }\n",
       "\n",
       "    .dataframe tbody tr th {\n",
       "        vertical-align: top;\n",
       "    }\n",
       "\n",
       "    .dataframe thead th {\n",
       "        text-align: right;\n",
       "    }\n",
       "</style>\n",
       "<table border=\"1\" class=\"dataframe\">\n",
       "  <thead>\n",
       "    <tr style=\"text-align: right;\">\n",
       "      <th></th>\n",
       "      <th>index</th>\n",
       "      <th>nancount</th>\n",
       "    </tr>\n",
       "  </thead>\n",
       "  <tbody>\n",
       "    <tr>\n",
       "      <th>10</th>\n",
       "      <td>emp_length</td>\n",
       "      <td>1075</td>\n",
       "    </tr>\n",
       "    <tr>\n",
       "      <th>23</th>\n",
       "      <td>mths_since_last_delinq</td>\n",
       "      <td>25682</td>\n",
       "    </tr>\n",
       "    <tr>\n",
       "      <th>27</th>\n",
       "      <td>revol_util</td>\n",
       "      <td>50</td>\n",
       "    </tr>\n",
       "    <tr>\n",
       "      <th>38</th>\n",
       "      <td>last_pymnt_d</td>\n",
       "      <td>71</td>\n",
       "    </tr>\n",
       "    <tr>\n",
       "      <th>40</th>\n",
       "      <td>last_credit_pull_d</td>\n",
       "      <td>2</td>\n",
       "    </tr>\n",
       "    <tr>\n",
       "      <th>44</th>\n",
       "      <td>pub_rec_bankruptcies</td>\n",
       "      <td>697</td>\n",
       "    </tr>\n",
       "  </tbody>\n",
       "</table>\n",
       "</div>"
      ],
      "text/plain": [
       "                     index  nancount\n",
       "10              emp_length      1075\n",
       "23  mths_since_last_delinq     25682\n",
       "27              revol_util        50\n",
       "38            last_pymnt_d        71\n",
       "40      last_credit_pull_d         2\n",
       "44    pub_rec_bankruptcies       697"
      ]
     },
     "execution_count": 36,
     "metadata": {},
     "output_type": "execute_result"
    }
   ],
   "source": [
    "LCN=LC.isnull().sum().reset_index()\n",
    "LCN=LCN.rename(columns={0:\"nancount\"})\n",
    "LCN.loc[LCN[\"nancount\"]>0]"
   ]
  },
  {
   "cell_type": "markdown",
   "metadata": {},
   "source": [
    "- Impute median value for missing emp_length columns"
   ]
  },
  {
   "cell_type": "code",
   "execution_count": 37,
   "metadata": {
    "scrolled": true
   },
   "outputs": [
    {
     "name": "stderr",
     "output_type": "stream",
     "text": [
      "/Users/muraleets/opt/anaconda3/lib/python3.7/site-packages/pandas/core/indexing.py:671: SettingWithCopyWarning: \n",
      "A value is trying to be set on a copy of a slice from a DataFrame\n",
      "\n",
      "See the caveats in the documentation: https://pandas.pydata.org/pandas-docs/stable/user_guide/indexing.html#returning-a-view-versus-a-copy\n",
      "  self._setitem_with_indexer(indexer, value)\n"
     ]
    }
   ],
   "source": [
    "LC[\"emp_length\"].loc[LC[\"emp_length\"].isnull()]=LC[\"emp_length\"].median()"
   ]
  },
  {
   "cell_type": "markdown",
   "metadata": {},
   "source": [
    "- Get a list of columns with NaN values, these will be dealt with later, if required"
   ]
  },
  {
   "cell_type": "code",
   "execution_count": 38,
   "metadata": {},
   "outputs": [
    {
     "data": {
      "text/html": [
       "<div>\n",
       "<style scoped>\n",
       "    .dataframe tbody tr th:only-of-type {\n",
       "        vertical-align: middle;\n",
       "    }\n",
       "\n",
       "    .dataframe tbody tr th {\n",
       "        vertical-align: top;\n",
       "    }\n",
       "\n",
       "    .dataframe thead th {\n",
       "        text-align: right;\n",
       "    }\n",
       "</style>\n",
       "<table border=\"1\" class=\"dataframe\">\n",
       "  <thead>\n",
       "    <tr style=\"text-align: right;\">\n",
       "      <th></th>\n",
       "      <th>index</th>\n",
       "      <th>nancount</th>\n",
       "    </tr>\n",
       "  </thead>\n",
       "  <tbody>\n",
       "    <tr>\n",
       "      <th>23</th>\n",
       "      <td>mths_since_last_delinq</td>\n",
       "      <td>25682</td>\n",
       "    </tr>\n",
       "    <tr>\n",
       "      <th>27</th>\n",
       "      <td>revol_util</td>\n",
       "      <td>50</td>\n",
       "    </tr>\n",
       "    <tr>\n",
       "      <th>38</th>\n",
       "      <td>last_pymnt_d</td>\n",
       "      <td>71</td>\n",
       "    </tr>\n",
       "    <tr>\n",
       "      <th>40</th>\n",
       "      <td>last_credit_pull_d</td>\n",
       "      <td>2</td>\n",
       "    </tr>\n",
       "    <tr>\n",
       "      <th>44</th>\n",
       "      <td>pub_rec_bankruptcies</td>\n",
       "      <td>697</td>\n",
       "    </tr>\n",
       "  </tbody>\n",
       "</table>\n",
       "</div>"
      ],
      "text/plain": [
       "                     index  nancount\n",
       "23  mths_since_last_delinq     25682\n",
       "27              revol_util        50\n",
       "38            last_pymnt_d        71\n",
       "40      last_credit_pull_d         2\n",
       "44    pub_rec_bankruptcies       697"
      ]
     },
     "execution_count": 38,
     "metadata": {},
     "output_type": "execute_result"
    }
   ],
   "source": [
    "LCN=LC.isnull().sum().reset_index()\n",
    "LCN=LCN.rename(columns={0:\"nancount\"})\n",
    "LCN.loc[LCN[\"nancount\"]>0]"
   ]
  },
  {
   "cell_type": "markdown",
   "metadata": {},
   "source": [
    "- Convert date columns to datetime datatype"
   ]
  },
  {
   "cell_type": "code",
   "execution_count": 39,
   "metadata": {},
   "outputs": [],
   "source": [
    "LC[\"issue_d\"]=pd.to_datetime(LC[\"issue_d\"],format=\"%b-%y\")"
   ]
  },
  {
   "cell_type": "code",
   "execution_count": 40,
   "metadata": {},
   "outputs": [],
   "source": [
    "LC[\"last_pymnt_d\"]=pd.to_datetime(LC[\"last_pymnt_d\"],format=\"%b-%y\")"
   ]
  },
  {
   "cell_type": "markdown",
   "metadata": {},
   "source": [
    "- Remove columns that will not be used for analysis"
   ]
  },
  {
   "cell_type": "code",
   "execution_count": 41,
   "metadata": {},
   "outputs": [],
   "source": [
    "LC=LC.drop(columns=[\"mths_since_last_delinq\",\"pub_rec_bankruptcies\",\"pub_rec_bankruptcies\",\"last_credit_pull_d\"])"
   ]
  },
  {
   "cell_type": "code",
   "execution_count": 42,
   "metadata": {},
   "outputs": [],
   "source": [
    "LC=LC.drop(columns=[\"total_rec_int\",\"total_rec_prncp\",\"total_pymnt\",\"total_rec_prncp\"])"
   ]
  },
  {
   "cell_type": "code",
   "execution_count": 43,
   "metadata": {},
   "outputs": [],
   "source": [
    "LC=LC.drop(columns=[\"application_type\",\"collection_recovery_fee\",\"earliest_cr_line\",\"inq_last_6mths\"])"
   ]
  },
  {
   "cell_type": "code",
   "execution_count": 44,
   "metadata": {
    "scrolled": true
   },
   "outputs": [],
   "source": [
    "LC=LC.drop(columns=[\"out_prncp\",\"out_prncp_inv\",\"recoveries\",\"total_pymnt_inv\"])"
   ]
  },
  {
   "cell_type": "code",
   "execution_count": 45,
   "metadata": {},
   "outputs": [],
   "source": [
    "LC=LC.drop(columns=[\"revol_bal\",\"revol_util\"])"
   ]
  },
  {
   "cell_type": "code",
   "execution_count": 46,
   "metadata": {},
   "outputs": [],
   "source": [
    "LC=LC.drop(columns=[\"acc_now_delinq\"])"
   ]
  },
  {
   "cell_type": "code",
   "execution_count": 47,
   "metadata": {},
   "outputs": [],
   "source": [
    "LC=LC.drop(columns=[\"last_pymnt_amnt\"])"
   ]
  },
  {
   "cell_type": "markdown",
   "metadata": {},
   "source": [
    "- Get data dictionary for the cleaned up lending club dataframe"
   ]
  },
  {
   "cell_type": "code",
   "execution_count": 48,
   "metadata": {
    "scrolled": false
   },
   "outputs": [
    {
     "data": {
      "text/html": [
       "<div>\n",
       "<style scoped>\n",
       "    .dataframe tbody tr th:only-of-type {\n",
       "        vertical-align: middle;\n",
       "    }\n",
       "\n",
       "    .dataframe tbody tr th {\n",
       "        vertical-align: top;\n",
       "    }\n",
       "\n",
       "    .dataframe thead th {\n",
       "        text-align: right;\n",
       "    }\n",
       "</style>\n",
       "<table border=\"1\" class=\"dataframe\">\n",
       "  <thead>\n",
       "    <tr style=\"text-align: right;\">\n",
       "      <th></th>\n",
       "      <th>param_name</th>\n",
       "      <th>Description</th>\n",
       "    </tr>\n",
       "  </thead>\n",
       "  <tbody>\n",
       "    <tr>\n",
       "      <th>0</th>\n",
       "      <td>addr_state</td>\n",
       "      <td>The state provided by the borrower in the loan...</td>\n",
       "    </tr>\n",
       "    <tr>\n",
       "      <th>1</th>\n",
       "      <td>annual_inc</td>\n",
       "      <td>The self-reported annual income provided by th...</td>\n",
       "    </tr>\n",
       "    <tr>\n",
       "      <th>2</th>\n",
       "      <td>delinq_2yrs</td>\n",
       "      <td>The number of 30+ days past-due incidences of ...</td>\n",
       "    </tr>\n",
       "    <tr>\n",
       "      <th>3</th>\n",
       "      <td>dti</td>\n",
       "      <td>A ratio calculated using the borrower’s total ...</td>\n",
       "    </tr>\n",
       "    <tr>\n",
       "      <th>4</th>\n",
       "      <td>emp_length</td>\n",
       "      <td>Employment length in years. Possible values ar...</td>\n",
       "    </tr>\n",
       "    <tr>\n",
       "      <th>5</th>\n",
       "      <td>emp_title</td>\n",
       "      <td>The job title supplied by the Borrower when ap...</td>\n",
       "    </tr>\n",
       "    <tr>\n",
       "      <th>6</th>\n",
       "      <td>funded_amnt</td>\n",
       "      <td>The total amount committed to that loan at tha...</td>\n",
       "    </tr>\n",
       "    <tr>\n",
       "      <th>7</th>\n",
       "      <td>funded_amnt_inv</td>\n",
       "      <td>The total amount committed by investors for th...</td>\n",
       "    </tr>\n",
       "    <tr>\n",
       "      <th>8</th>\n",
       "      <td>grade</td>\n",
       "      <td>LC assigned loan grade</td>\n",
       "    </tr>\n",
       "    <tr>\n",
       "      <th>9</th>\n",
       "      <td>home_ownership</td>\n",
       "      <td>The home ownership status provided by the borr...</td>\n",
       "    </tr>\n",
       "    <tr>\n",
       "      <th>10</th>\n",
       "      <td>id</td>\n",
       "      <td>A unique LC assigned ID for the loan listing.</td>\n",
       "    </tr>\n",
       "    <tr>\n",
       "      <th>11</th>\n",
       "      <td>installment</td>\n",
       "      <td>The monthly payment owed by the borrower if th...</td>\n",
       "    </tr>\n",
       "    <tr>\n",
       "      <th>12</th>\n",
       "      <td>int_rate</td>\n",
       "      <td>Interest Rate on the loan</td>\n",
       "    </tr>\n",
       "    <tr>\n",
       "      <th>13</th>\n",
       "      <td>issue_d</td>\n",
       "      <td>The month which the loan was funded</td>\n",
       "    </tr>\n",
       "    <tr>\n",
       "      <th>14</th>\n",
       "      <td>last_pymnt_d</td>\n",
       "      <td>Last month payment was received</td>\n",
       "    </tr>\n",
       "    <tr>\n",
       "      <th>15</th>\n",
       "      <td>loan_amnt</td>\n",
       "      <td>The listed amount of the loan applied for by t...</td>\n",
       "    </tr>\n",
       "    <tr>\n",
       "      <th>16</th>\n",
       "      <td>loan_status</td>\n",
       "      <td>Current status of the loan</td>\n",
       "    </tr>\n",
       "    <tr>\n",
       "      <th>17</th>\n",
       "      <td>open_acc</td>\n",
       "      <td>The number of open credit lines in the borrowe...</td>\n",
       "    </tr>\n",
       "    <tr>\n",
       "      <th>18</th>\n",
       "      <td>policy_code</td>\n",
       "      <td>publicly available policy_code=1\\nnew products...</td>\n",
       "    </tr>\n",
       "    <tr>\n",
       "      <th>19</th>\n",
       "      <td>pub_rec</td>\n",
       "      <td>Number of derogatory public records</td>\n",
       "    </tr>\n",
       "    <tr>\n",
       "      <th>20</th>\n",
       "      <td>purpose</td>\n",
       "      <td>A category provided by the borrower for the lo...</td>\n",
       "    </tr>\n",
       "    <tr>\n",
       "      <th>21</th>\n",
       "      <td>sub_grade</td>\n",
       "      <td>LC assigned loan subgrade</td>\n",
       "    </tr>\n",
       "    <tr>\n",
       "      <th>22</th>\n",
       "      <td>term</td>\n",
       "      <td>The number of payments on the loan. Values are...</td>\n",
       "    </tr>\n",
       "    <tr>\n",
       "      <th>23</th>\n",
       "      <td>total_acc</td>\n",
       "      <td>The total number of credit lines currently in ...</td>\n",
       "    </tr>\n",
       "    <tr>\n",
       "      <th>24</th>\n",
       "      <td>total_rec_late_fee</td>\n",
       "      <td>Late fees received to date</td>\n",
       "    </tr>\n",
       "    <tr>\n",
       "      <th>25</th>\n",
       "      <td>verification_status</td>\n",
       "      <td>Indicates if income was verified by LC, not ve...</td>\n",
       "    </tr>\n",
       "    <tr>\n",
       "      <th>26</th>\n",
       "      <td>zip_code</td>\n",
       "      <td>The first 3 numbers of the zip code provided b...</td>\n",
       "    </tr>\n",
       "  </tbody>\n",
       "</table>\n",
       "</div>"
      ],
      "text/plain": [
       "             param_name                                        Description\n",
       "0            addr_state  The state provided by the borrower in the loan...\n",
       "1            annual_inc  The self-reported annual income provided by th...\n",
       "2           delinq_2yrs  The number of 30+ days past-due incidences of ...\n",
       "3                   dti  A ratio calculated using the borrower’s total ...\n",
       "4            emp_length  Employment length in years. Possible values ar...\n",
       "5             emp_title  The job title supplied by the Borrower when ap...\n",
       "6           funded_amnt  The total amount committed to that loan at tha...\n",
       "7       funded_amnt_inv  The total amount committed by investors for th...\n",
       "8                 grade                             LC assigned loan grade\n",
       "9        home_ownership  The home ownership status provided by the borr...\n",
       "10                   id      A unique LC assigned ID for the loan listing.\n",
       "11          installment  The monthly payment owed by the borrower if th...\n",
       "12             int_rate                          Interest Rate on the loan\n",
       "13              issue_d                The month which the loan was funded\n",
       "14         last_pymnt_d                    Last month payment was received\n",
       "15            loan_amnt  The listed amount of the loan applied for by t...\n",
       "16          loan_status                         Current status of the loan\n",
       "17             open_acc  The number of open credit lines in the borrowe...\n",
       "18          policy_code  publicly available policy_code=1\\nnew products...\n",
       "19              pub_rec                Number of derogatory public records\n",
       "20              purpose  A category provided by the borrower for the lo...\n",
       "21            sub_grade                          LC assigned loan subgrade\n",
       "22                 term  The number of payments on the loan. Values are...\n",
       "23            total_acc  The total number of credit lines currently in ...\n",
       "24   total_rec_late_fee                         Late fees received to date\n",
       "25  verification_status  Indicates if income was verified by LC, not ve...\n",
       "26             zip_code  The first 3 numbers of the zip code provided b..."
      ]
     },
     "execution_count": 48,
     "metadata": {},
     "output_type": "execute_result"
    }
   ],
   "source": [
    "DD=pd.merge(DD,pd.DataFrame(LC.columns,columns=[\"param_name\"]),on=\"param_name\",how=\"inner\")\n",
    "DD"
   ]
  },
  {
   "cell_type": "markdown",
   "metadata": {},
   "source": [
    "- Filter out loan_status=current and Create a new column <b>status</b> as loan status - Charged Off=1, Fully Paid=0"
   ]
  },
  {
   "cell_type": "code",
   "execution_count": 49,
   "metadata": {},
   "outputs": [],
   "source": [
    "LC=LC.loc[LC[\"loan_status\"]!=\"Current\"]\n",
    "LC.loc[LC[\"loan_status\"]==\"Charged Off\",\"status\"]=1\n",
    "LC.loc[LC[\"loan_status\"]==\"Fully Paid\",\"status\"]=0"
   ]
  },
  {
   "cell_type": "code",
   "execution_count": 50,
   "metadata": {},
   "outputs": [
    {
     "data": {
      "text/plain": [
       "38577"
      ]
     },
     "execution_count": 50,
     "metadata": {},
     "output_type": "execute_result"
    }
   ],
   "source": [
    "len(LC)"
   ]
  },
  {
   "cell_type": "markdown",
   "metadata": {},
   "source": [
    "- Get the distribution of Loan status"
   ]
  },
  {
   "cell_type": "code",
   "execution_count": 51,
   "metadata": {
    "scrolled": false
   },
   "outputs": [
    {
     "name": "stderr",
     "output_type": "stream",
     "text": [
      "\n",
      "Bad key \"text.kerning_factor\" on line 4 in\n",
      "/Users/muraleets/opt/anaconda3/lib/python3.7/site-packages/matplotlib/mpl-data/stylelib/_classic_test_patch.mplstyle.\n",
      "You probably need to get an updated matplotlibrc file from\n",
      "https://github.com/matplotlib/matplotlib/blob/v3.1.3/matplotlibrc.template\n",
      "or from the matplotlib source distribution\n"
     ]
    },
    {
     "data": {
      "text/plain": [
       "<matplotlib.axes._subplots.AxesSubplot at 0x1198de1d0>"
      ]
     },
     "execution_count": 51,
     "metadata": {},
     "output_type": "execute_result"
    },
    {
     "data": {
      "image/png": "[encoded data removed]",
      "text/plain": [
       "<Figure size 1080x720 with 1 Axes>"
      ]
     },
     "metadata": {},
     "output_type": "display_data"
    }
   ],
   "source": [
    "LC.groupby(\"loan_status\").count()[\"id\"].plot.pie(title=\"Loan status\", fontsize=20,figsize=(15,10),autopct='%1.0f%%', pctdistance=1.1, labeldistance=1.2)"
   ]
  },
  {
   "cell_type": "markdown",
   "metadata": {},
   "source": [
    "#### Insights\n",
    "From past loan data, majority of borrowers pay the amount, we need to find the factors driving the 15% defaulters"
   ]
  },
  {
   "cell_type": "code",
   "execution_count": 52,
   "metadata": {},
   "outputs": [],
   "source": [
    "import seaborn as sns\n",
    "import matplotlib.pyplot as plt"
   ]
  },
  {
   "cell_type": "markdown",
   "metadata": {},
   "source": [
    "- Function to have box plot with label and Mean value"
   ]
  },
  {
   "cell_type": "code",
   "execution_count": 53,
   "metadata": {},
   "outputs": [],
   "source": [
    "def box_plot(df,chart_title=\"Chart\",x_label=\"X\",y_label=\"Y\"):\n",
    "    plt.figure(num=1,figsize=(15,7))\n",
    "    chart = sns.boxplot(data=df)\n",
    "    chart.set_title(chart_title,fontsize=20, color=\"blue\")\n",
    "    chart.set_xlabel(x_label, fontsize=12,color=\"green\", weight=\"bold\")\n",
    "    chart.set_ylabel(y_label, fontsize=12,color=\"green\", weight=\"bold\")\n",
    "    #plt.yscale=\"log\"\n",
    "    #chart.set_xticklabels(ax.get_xticklabels(),rotation=30)\n",
    "    #chart.set_xticklabels([\"Annual Income\"],rotation=0)\n",
    "    try:\n",
    "        labels=df.describe().to_frame()\n",
    "    except:\n",
    "        labels=df.describe()\n",
    "    ofset =0\n",
    "    for colname in labels.columns:\n",
    "        q1=labels[colname][\"25%\"]\n",
    "        med=labels[colname][\"50%\"]\n",
    "        q3=labels[colname][\"75%\"]\n",
    "        iqr = q3 - q1\n",
    "        mean=labels[colname][\"mean\"]\n",
    "        #upper_whisker = df[data<=upper_quartile+1.5*iqr].max()\n",
    "        #lower_whisker = data[data>=lower_quartile-1.5*iqr].min()\n",
    "        plt.ylim(0,q3*2)\n",
    "        fntsiz=10\n",
    "        \n",
    "        chart.text(0.005+ofset,q1,q1,fontsize=fntsiz)\n",
    "        chart.text(0.2+ofset,q3,\"IQR=\"+str(round(iqr,1)),fontsize=fntsiz)\n",
    "        chart.text(0.005+ofset,q3,str(q3),fontsize=fntsiz)\n",
    "        chart.text(0.005+ofset,med,\"Median=\"+str(med),fontsize=fntsiz)\n",
    "        chart.text(-0.2+ofset,mean,\"Mean=\"+str(round(mean,1)),fontsize=fntsiz)\n",
    "        chart.axes.hlines( y = mean, color='black', linewidth=1, alpha=.7,xmin=-0.5,xmax=0.5+ofset)\n",
    "        ofset=ofset+1\n",
    "        \n",
    "    plt.show()"
   ]
  },
  {
   "cell_type": "markdown",
   "metadata": {},
   "source": [
    "- Box plot to compare annual income and loan amount"
   ]
  },
  {
   "cell_type": "code",
   "execution_count": 54,
   "metadata": {
    "scrolled": true
   },
   "outputs": [
    {
     "data": {
      "image/png": "[encoded data removed]",
      "text/plain": [
       "<Figure size 1080x504 with 1 Axes>"
      ]
     },
     "metadata": {
      "needs_background": "light"
     },
     "output_type": "display_data"
    }
   ],
   "source": [
    "box_plot(LC[[\"loan_amnt\",\"annual_inc\"]],\"Annual Income\")"
   ]
  },
  {
   "cell_type": "markdown",
   "metadata": {},
   "source": [
    "- Functions for bar plots"
   ]
  },
  {
   "cell_type": "code",
   "execution_count": 55,
   "metadata": {},
   "outputs": [],
   "source": [
    "def plot_id(fign, df, xval,yval, title, xtitle, ytitle, rotation):\n",
    "    plt.figure(num=fign, figsize=(15,7))\n",
    "    plot1 = sns.barplot(x=xval, y=yval, data=df)\n",
    "    plot1.set_title(title,fontsize=20, color=\"blue\")\n",
    "    plot1.set_xlabel(xtitle, fontsize=12,color=\"green\", weight=\"bold\")\n",
    "    plot1.set_ylabel(ytitle, fontsize=12,color=\"green\", weight=\"bold\")\n",
    "    plot1.set_xticklabels(plot1.axes.get_xticklabels(),rotation=rotation)\n",
    "    \n",
    "    for index, row in df.iterrows():\n",
    "        plot1.text(row.name,row.id, round(row.id,2), color='black', ha=\"center\",\n",
    "                    fontsize=14, weight=\"bold\")\n",
    "        \n",
    "def plot_funded_amt(fign, df, xval,yval, title, xtitle, ytitle, yscale):\n",
    "    plt.figure(num=fign, figsize=(15,7))\n",
    "    plot1 = sns.barplot(x=xval, y=yval, data=df)\n",
    "    plot1.set_title(title,fontsize=20, color=\"blue\")\n",
    "    plot1.set_xlabel(xtitle, fontsize=12,color=\"green\", weight=\"bold\")\n",
    "    plot1.set_ylabel(ytitle, fontsize=12,color=\"green\", weight=\"bold\")\n",
    "    for index, row in df.iterrows():\n",
    "        plot1.text(row.name,row.funded_amnt_inv, round(row.funded_amnt_inv,2), color='black', ha=\"center\",\n",
    "                    fontsize=14, weight=\"bold\")\n",
    "\n",
    "def plot_target(fign, df, xval,yval, title, xtitle, ytitle, rotation):\n",
    "    plt.figure(num=fign, figsize=(15,7))\n",
    "    plot1 = sns.barplot(x=xval, y=yval, data=df)\n",
    "    plot1.set_title(title,fontsize=20, color=\"blue\")\n",
    "    plot1.set_xlabel(xtitle, fontsize=12,color=\"green\", weight=\"bold\")\n",
    "    plot1.set_ylabel(ytitle, fontsize=12,color=\"green\", weight=\"bold\")\n",
    "    plot1.set_xticklabels(plot1.axes.get_xticklabels(),rotation=rotation)\n",
    "    \n",
    "    for index, row in df.iterrows():\n",
    "        plot1.text(row.name,row.target_col, round(row.target_col,2), color='black', ha=\"center\",\n",
    "                    fontsize=14, weight=\"bold\")"
   ]
  },
  {
   "cell_type": "markdown",
   "metadata": {},
   "source": [
    "- Plot loan grade distribution"
   ]
  },
  {
   "cell_type": "code",
   "execution_count": 56,
   "metadata": {
    "scrolled": true
   },
   "outputs": [
    {
     "data": {
      "image/png": "[encoded data removed]",
      "text/plain": [
       "<Figure size 1080x504 with 1 Axes>"
      ]
     },
     "metadata": {
      "needs_background": "light"
     },
     "output_type": "display_data"
    }
   ],
   "source": [
    "grade=LC.groupby(\"grade\").count().sort_values(by=\"id\",ascending=False).reset_index()\n",
    "plot_id(2,grade,\"grade\",\"id\",\"Loan Grade\",\"Grade\",\"count\",0)"
   ]
  },
  {
   "cell_type": "markdown",
   "metadata": {},
   "source": [
    "- Plot loan purpose distribution"
   ]
  },
  {
   "cell_type": "code",
   "execution_count": 57,
   "metadata": {
    "scrolled": false
   },
   "outputs": [
    {
     "data": {
      "image/png": "[encoded data removed]",
      "text/plain": [
       "<Figure size 1080x504 with 1 Axes>"
      ]
     },
     "metadata": {
      "needs_background": "light"
     },
     "output_type": "display_data"
    }
   ],
   "source": [
    "purpose=LC.groupby(\"purpose\").count().sort_values(by=\"id\",ascending=False).reset_index()\n",
    "plot_id(2,purpose,\"purpose\",\"id\",\"Loan Purpose\",\"Purpose\",\"count\",90)"
   ]
  },
  {
   "cell_type": "markdown",
   "metadata": {},
   "source": [
    "- Try a direct correlation matrix to see if any of the parameters we have got a direct correlation"
   ]
  },
  {
   "cell_type": "code",
   "execution_count": 58,
   "metadata": {},
   "outputs": [
    {
     "data": {
      "text/html": [
       "<div>\n",
       "<style scoped>\n",
       "    .dataframe tbody tr th:only-of-type {\n",
       "        vertical-align: middle;\n",
       "    }\n",
       "\n",
       "    .dataframe tbody tr th {\n",
       "        vertical-align: top;\n",
       "    }\n",
       "\n",
       "    .dataframe thead th {\n",
       "        text-align: right;\n",
       "    }\n",
       "</style>\n",
       "<table border=\"1\" class=\"dataframe\">\n",
       "  <thead>\n",
       "    <tr style=\"text-align: right;\">\n",
       "      <th></th>\n",
       "      <th>open_acc</th>\n",
       "      <th>dti</th>\n",
       "      <th>annual_inc</th>\n",
       "      <th>delinq_2yrs</th>\n",
       "      <th>funded_amnt_inv</th>\n",
       "      <th>installment</th>\n",
       "      <th>int_rate</th>\n",
       "      <th>emp_length</th>\n",
       "    </tr>\n",
       "  </thead>\n",
       "  <tbody>\n",
       "    <tr>\n",
       "      <th>open_acc</th>\n",
       "      <td>1.000000</td>\n",
       "      <td>0.289675</td>\n",
       "      <td>0.152728</td>\n",
       "      <td>0.027138</td>\n",
       "      <td>0.146338</td>\n",
       "      <td>0.167015</td>\n",
       "      <td>-0.029447</td>\n",
       "      <td>0.053680</td>\n",
       "    </tr>\n",
       "    <tr>\n",
       "      <th>dti</th>\n",
       "      <td>0.289675</td>\n",
       "      <td>1.000000</td>\n",
       "      <td>-0.158532</td>\n",
       "      <td>-0.001419</td>\n",
       "      <td>0.036010</td>\n",
       "      <td>0.026118</td>\n",
       "      <td>0.078824</td>\n",
       "      <td>0.011399</td>\n",
       "    </tr>\n",
       "    <tr>\n",
       "      <th>annual_inc</th>\n",
       "      <td>0.152728</td>\n",
       "      <td>-0.158532</td>\n",
       "      <td>1.000000</td>\n",
       "      <td>0.011408</td>\n",
       "      <td>0.314027</td>\n",
       "      <td>0.340905</td>\n",
       "      <td>0.104846</td>\n",
       "      <td>0.148110</td>\n",
       "    </tr>\n",
       "    <tr>\n",
       "      <th>delinq_2yrs</th>\n",
       "      <td>0.027138</td>\n",
       "      <td>-0.001419</td>\n",
       "      <td>0.011408</td>\n",
       "      <td>1.000000</td>\n",
       "      <td>-0.046110</td>\n",
       "      <td>-0.039326</td>\n",
       "      <td>0.126188</td>\n",
       "      <td>0.012432</td>\n",
       "    </tr>\n",
       "    <tr>\n",
       "      <th>funded_amnt_inv</th>\n",
       "      <td>0.146338</td>\n",
       "      <td>0.036010</td>\n",
       "      <td>0.314027</td>\n",
       "      <td>-0.046110</td>\n",
       "      <td>1.000000</td>\n",
       "      <td>0.894906</td>\n",
       "      <td>0.407729</td>\n",
       "      <td>0.157908</td>\n",
       "    </tr>\n",
       "    <tr>\n",
       "      <th>installment</th>\n",
       "      <td>0.167015</td>\n",
       "      <td>0.026118</td>\n",
       "      <td>0.340905</td>\n",
       "      <td>-0.039326</td>\n",
       "      <td>0.894906</td>\n",
       "      <td>1.000000</td>\n",
       "      <td>0.359086</td>\n",
       "      <td>0.135132</td>\n",
       "    </tr>\n",
       "    <tr>\n",
       "      <th>int_rate</th>\n",
       "      <td>-0.029447</td>\n",
       "      <td>0.078824</td>\n",
       "      <td>0.104846</td>\n",
       "      <td>0.126188</td>\n",
       "      <td>0.407729</td>\n",
       "      <td>0.359086</td>\n",
       "      <td>1.000000</td>\n",
       "      <td>0.041230</td>\n",
       "    </tr>\n",
       "    <tr>\n",
       "      <th>emp_length</th>\n",
       "      <td>0.053680</td>\n",
       "      <td>0.011399</td>\n",
       "      <td>0.148110</td>\n",
       "      <td>0.012432</td>\n",
       "      <td>0.157908</td>\n",
       "      <td>0.135132</td>\n",
       "      <td>0.041230</td>\n",
       "      <td>1.000000</td>\n",
       "    </tr>\n",
       "  </tbody>\n",
       "</table>\n",
       "</div>"
      ],
      "text/plain": [
       "                 open_acc       dti  annual_inc  delinq_2yrs  funded_amnt_inv  \\\n",
       "open_acc         1.000000  0.289675    0.152728     0.027138         0.146338   \n",
       "dti              0.289675  1.000000   -0.158532    -0.001419         0.036010   \n",
       "annual_inc       0.152728 -0.158532    1.000000     0.011408         0.314027   \n",
       "delinq_2yrs      0.027138 -0.001419    0.011408     1.000000        -0.046110   \n",
       "funded_amnt_inv  0.146338  0.036010    0.314027    -0.046110         1.000000   \n",
       "installment      0.167015  0.026118    0.340905    -0.039326         0.894906   \n",
       "int_rate        -0.029447  0.078824    0.104846     0.126188         0.407729   \n",
       "emp_length       0.053680  0.011399    0.148110     0.012432         0.157908   \n",
       "\n",
       "                 installment  int_rate  emp_length  \n",
       "open_acc            0.167015 -0.029447    0.053680  \n",
       "dti                 0.026118  0.078824    0.011399  \n",
       "annual_inc          0.340905  0.104846    0.148110  \n",
       "delinq_2yrs        -0.039326  0.126188    0.012432  \n",
       "funded_amnt_inv     0.894906  0.407729    0.157908  \n",
       "installment         1.000000  0.359086    0.135132  \n",
       "int_rate            0.359086  1.000000    0.041230  \n",
       "emp_length          0.135132  0.041230    1.000000  "
      ]
     },
     "execution_count": 58,
     "metadata": {},
     "output_type": "execute_result"
    },
    {
     "data": {
      "image/png": "[encoded data removed]",
      "text/plain": [
       "<Figure size 432x288 with 2 Axes>"
      ]
     },
     "metadata": {
      "needs_background": "light"
     },
     "output_type": "display_data"
    }
   ],
   "source": [
    "corlc=LC.loc[LC[\"delinq_2yrs\"]!=0]\n",
    "corrdf=corlc[[\"open_acc\",\"dti\",\"annual_inc\",\"delinq_2yrs\",\"funded_amnt_inv\",\"installment\",\"int_rate\",\"emp_length\"]].corr()\n",
    "sns.heatmap(data=corrdf)\n",
    "corrdf"
   ]
  },
  {
   "cell_type": "markdown",
   "metadata": {},
   "source": [
    "- Plot interest rates for different loan purposes"
   ]
  },
  {
   "cell_type": "code",
   "execution_count": 59,
   "metadata": {},
   "outputs": [
    {
     "data": {
      "image/png": "[encoded data removed]",
      "text/plain": [
       "<Figure size 1440x864 with 1 Axes>"
      ]
     },
     "metadata": {
      "needs_background": "light"
     },
     "output_type": "display_data"
    }
   ],
   "source": [
    "def plot_intrate(fign, df, xval,yval, title, xtitle, ytitle, yscale):\n",
    "    plt.figure(num=fign, figsize=(20,12))\n",
    "    plot1 = sns.barplot(x=xval, y=yval, data=df)\n",
    "    plot1.set_title(title,fontsize=20, color=\"blue\")\n",
    "    plot1.set_xlabel(xtitle, fontsize=12,color=\"green\", weight=\"bold\")\n",
    "    plot1.set_ylabel(ytitle, fontsize=12,color=\"green\", weight=\"bold\")\n",
    "    \n",
    "    plt.show()\n",
    "    \n",
    "purp_rate=LC.groupby(\"purpose\").median().reset_index()\n",
    "purp_rate=purp_rate.loc[:,[\"purpose\",\"int_rate\"]].sort_values(by=\"int_rate\",ascending=False).reset_index()\n",
    "\n",
    "plot_intrate(2,purp_rate,\"int_rate\",\"purpose\",\"Interest rates for different types of loan\",\"Purpose\",\"Rate(%)\",False)\n"
   ]
  },
  {
   "cell_type": "markdown",
   "metadata": {},
   "source": [
    "#### Insights\n",
    "This plot gives us an idea of the risk level associated with the loan purpose. Higher the interest rate could mean we assume a higher risk for that purpose"
   ]
  },
  {
   "cell_type": "markdown",
   "metadata": {},
   "source": [
    "##### Define functions for segment analysis and plotting\n"
   ]
  },
  {
   "cell_type": "code",
   "execution_count": 60,
   "metadata": {},
   "outputs": [],
   "source": [
    "def plot_status(fign, pdf, xval,yval, title, xtitle, ytitle, rotation, hue):\n",
    "    plt.figure(num=fign, figsize=(20,12))\n",
    "    \n",
    "    # Order is enforced only if hue is not specified \n",
    "    if hue is None:\n",
    "        plot1 = sns.barplot(x=xval, y=yval, data=pdf,order=pdf[xval])\n",
    "    else:\n",
    "        plot1 = sns.barplot(x=xval, y=yval, data=pdf, hue=hue)\n",
    "    \n",
    "    # Set titles, axis labels and rotate x axis labels if needed\n",
    "    plot1.set_title(title,fontsize=20, color=\"blue\")\n",
    "    plot1.set_xlabel(xtitle, fontsize=12,color=\"green\", weight=\"bold\")\n",
    "    plot1.set_ylabel(ytitle, fontsize=12,color=\"green\", weight=\"bold\")\n",
    "    plot1.set_xticklabels(plot1.axes.get_xticklabels(),rotation=rotation)\n",
    "    \n",
    "    # Annotate only when there is no further drilldown, otherwise it becomes too messy\n",
    "    if hue is None:\n",
    "        for index, row in pdf.iterrows():\n",
    "            plot1.text(row.name,row.status, round(row.status,2), color='black', ha=\"center\",\n",
    "                    fontsize=14, weight=\"bold\")\n",
    "    plt.show()"
   ]
  },
  {
   "cell_type": "code",
   "execution_count": 61,
   "metadata": {},
   "outputs": [],
   "source": [
    "\n",
    "def seg_loan_status(df,factor,factor_desc=None,title=None, hue=None, rotation=0,topn=0,filterpct=5,filterfld=\"id\"): \n",
    "    \n",
    "    # Filter out data that is not significant\n",
    "    filter_df=df.groupby(factor).count().reset_index()\n",
    "    filter_df=filter_df.loc[filter_df[filterfld]>len(df)*filterpct/100]\n",
    "    df=df.loc[df[factor].isin(filter_df[factor])]\n",
    "    \n",
    "    # Create the target value for the given group of factors\n",
    "    if hue is None:\n",
    "        plotdf = df.groupby(factor).mean().reset_index().loc[:,[factor,\"status\"]]\n",
    "    else:\n",
    "        plotdf = df.groupby([factor,hue]).mean().reset_index().loc[:,[factor,hue,\"status\"]]\n",
    "        \n",
    "    # Round off for better labelling\n",
    "    plotdf[\"status\"]=round(plotdf[\"status\"]*100,1)\n",
    "    \n",
    "    # Sort the dataframe if there is further drill down\n",
    "    if hue is None:\n",
    "        if (topn!=0):\n",
    "            plotdf=plotdf.sort_values(by=\"status\",ascending=False).head(topn).reset_index(drop=True)\n",
    "        else:\n",
    "            plotdf=plotdf.sort_values(by=\"status\",ascending=False).reset_index(drop=True)\n",
    "    \n",
    "    # Generate Plot\n",
    "    plot_status(1,plotdf,factor,\"status\",str(title or factor),\\\n",
    "                 str(factor_desc or factor),\"Charge Off probability (%)\",rotation, hue)\n",
    "\n"
   ]
  },
  {
   "cell_type": "markdown",
   "metadata": {},
   "source": [
    "- Defaulter distribution with Years of work expereience "
   ]
  },
  {
   "cell_type": "code",
   "execution_count": 62,
   "metadata": {
    "scrolled": true
   },
   "outputs": [
    {
     "data": {
      "image/png": "[encoded data removed]",
      "text/plain": [
       "<Figure size 1440x864 with 1 Axes>"
      ]
     },
     "metadata": {
      "needs_background": "light"
     },
     "output_type": "display_data"
    }
   ],
   "source": [
    "seg_loan_status(df=LC,factor=\"emp_length\",factor_desc=\"Experience in years\", title=\"Experience v/s Charge-off\")"
   ]
  },
  {
   "cell_type": "markdown",
   "metadata": {},
   "source": [
    "#### See if there is a pattern with home ownership and the state they're from"
   ]
  },
  {
   "cell_type": "code",
   "execution_count": 63,
   "metadata": {
    "scrolled": true
   },
   "outputs": [
    {
     "data": {
      "image/png": "[encoded data removed]",
      "text/plain": [
       "<Figure size 1080x504 with 1 Axes>"
      ]
     },
     "metadata": {
      "needs_background": "light"
     },
     "output_type": "display_data"
    }
   ],
   "source": [
    "home=LC.groupby(\"home_ownership\").count().sort_values(by=\"id\",ascending=False).reset_index()\n",
    "plot_id(2,home,\"home_ownership\",\"id\",\"Home Ownership\",\"Ownership type\",\"count\",0)\n",
    "#sns.barplot(x=\"home_ownership\",y=\"status\",data=LC)"
   ]
  },
  {
   "cell_type": "code",
   "execution_count": 64,
   "metadata": {},
   "outputs": [
    {
     "data": {
      "image/png": "[encoded data removed]",
      "text/plain": [
       "<Figure size 1440x864 with 1 Axes>"
      ]
     },
     "metadata": {
      "needs_background": "light"
     },
     "output_type": "display_data"
    }
   ],
   "source": [
    "seg_loan_status(df=LC,factor=\"home_ownership\")"
   ]
  },
  {
   "cell_type": "markdown",
   "metadata": {},
   "source": [
    "#### Insights\n",
    "- Most the borrowers are having Mortgage or rental homes as opposed to own home\n",
    "- People with rental homes seem to be defaulting slightly more than people with mortgage or own homes."
   ]
  },
  {
   "cell_type": "markdown",
   "metadata": {},
   "source": [
    "Let's have a look at state-wise distribution"
   ]
  },
  {
   "cell_type": "code",
   "execution_count": 65,
   "metadata": {},
   "outputs": [
    {
     "data": {
      "image/png": "[encoded data removed]",
      "text/plain": [
       "<Figure size 1080x504 with 1 Axes>"
      ]
     },
     "metadata": {
      "needs_background": "light"
     },
     "output_type": "display_data"
    }
   ],
   "source": [
    "state=LC.groupby(\"addr_state\").count().sort_values(by=\"id\",ascending=False).reset_index()[:10]\n",
    "plot_id(2,state,\"addr_state\",\"id\",\"State-wise Distribution - Top 10\",\"State\",\"count\",0)"
   ]
  },
  {
   "cell_type": "code",
   "execution_count": 66,
   "metadata": {
    "scrolled": true
   },
   "outputs": [
    {
     "data": {
      "image/png": "[encoded data removed]",
      "text/plain": [
       "<Figure size 1440x864 with 1 Axes>"
      ]
     },
     "metadata": {
      "needs_background": "light"
     },
     "output_type": "display_data"
    }
   ],
   "source": [
    "seg_loan_status(df=LC,factor=\"addr_state\",topn=15,filterpct=3)"
   ]
  },
  {
   "cell_type": "markdown",
   "metadata": {},
   "source": [
    "#### Insights\n",
    "- Though majority of borrowers are from CA, FL, NY & TX, the number of defaulters doesn't follow the same order.\n",
    "- FL seem to have highest number of defaulters, though CA follows it immediately. NY & TX have much lower defaulters. \n",
    "<br>There seem to be a higher risk in FL state considering it is second in number of borrowers"
   ]
  },
  {
   "cell_type": "markdown",
   "metadata": {},
   "source": [
    "- Let's try to see the two largest segments of home ownership across states - rent & mortgage"
   ]
  },
  {
   "cell_type": "code",
   "execution_count": 67,
   "metadata": {
    "scrolled": false
   },
   "outputs": [
    {
     "data": {
      "image/png": "[encoded data removed]",
      "text/plain": [
       "<Figure size 1440x864 with 1 Axes>"
      ]
     },
     "metadata": {
      "needs_background": "light"
     },
     "output_type": "display_data"
    }
   ],
   "source": [
    "home_state=LC.loc[LC[\"addr_state\"].isin([\"FL\",\"CA\",\"GA\",\"NJ\",\"NY\",\"TX\"])].loc[LC[\"home_ownership\"].\\\n",
    "                                                                   isin([\"RENT\",\"MORTGAGE\",\"OWN\"])]\n",
    "seg_loan_status(df=home_state,factor=\"addr_state\",hue=\"home_ownership\",title=\"Home ownership & State wise risk pattern\")"
   ]
  },
  {
   "cell_type": "markdown",
   "metadata": {},
   "source": [
    "#### Insights\n",
    "- When we further drilldown to home onwership in these states,it is consistently showing borrowers with rented home is a higher risk category\n",
    "- In CA, FL & TX we see borrowers with OWN homes show a higher risk. This is counter intuitive, and need further investigation"
   ]
  },
  {
   "cell_type": "code",
   "execution_count": 68,
   "metadata": {
    "scrolled": false
   },
   "outputs": [
    {
     "data": {
      "image/png": "[encoded data removed]",
      "text/plain": [
       "<Figure size 1440x864 with 1 Axes>"
      ]
     },
     "metadata": {
      "needs_background": "light"
     },
     "output_type": "display_data"
    }
   ],
   "source": [
    "seg_loan_status(df=home_state,factor=\"home_ownership\",hue=\"grade\",title=\"Home ownership & grade\")"
   ]
  },
  {
   "cell_type": "markdown",
   "metadata": {},
   "source": [
    "#### Insights\n",
    "- Further drill down indicate borrowers with own house and a lower credit grade are defaulting a lot more than other two"
   ]
  },
  {
   "cell_type": "markdown",
   "metadata": {},
   "source": [
    "<B> Now let us take a look at loan term & purpose"
   ]
  },
  {
   "cell_type": "code",
   "execution_count": 69,
   "metadata": {
    "scrolled": true
   },
   "outputs": [
    {
     "data": {
      "image/png": "[encoded data removed]",
      "text/plain": [
       "<Figure size 1440x864 with 1 Axes>"
      ]
     },
     "metadata": {
      "needs_background": "light"
     },
     "output_type": "display_data"
    }
   ],
   "source": [
    "seg_loan_status(df=LC,factor=\"term\")"
   ]
  },
  {
   "cell_type": "markdown",
   "metadata": {},
   "source": [
    "#### Insights\n",
    "- Longer term loans have more defaulters"
   ]
  },
  {
   "cell_type": "code",
   "execution_count": 70,
   "metadata": {},
   "outputs": [
    {
     "data": {
      "image/png": "[encoded data removed]",
      "text/plain": [
       "<Figure size 1440x864 with 1 Axes>"
      ]
     },
     "metadata": {
      "needs_background": "light"
     },
     "output_type": "display_data"
    }
   ],
   "source": [
    "seg_loan_status(df=LC,factor=\"purpose\",topn=25,filterpct=3)"
   ]
  },
  {
   "cell_type": "markdown",
   "metadata": {},
   "source": [
    "#### Insights\n",
    "- Loans borrowed for small business has significanty higher risk compared to others."
   ]
  },
  {
   "cell_type": "code",
   "execution_count": 71,
   "metadata": {},
   "outputs": [
    {
     "data": {
      "image/png": "[encoded data removed]",
      "text/plain": [
       "<Figure size 1440x864 with 1 Axes>"
      ]
     },
     "metadata": {
      "needs_background": "light"
     },
     "output_type": "display_data"
    }
   ],
   "source": [
    "purpose_term=LC.loc[LC[\"purpose\"].isin([\"small_business\",\"other\",\"debt_consolidation\"])]\n",
    "seg_loan_status(df=purpose_term,factor=\"purpose\",hue=\"term\")"
   ]
  },
  {
   "cell_type": "markdown",
   "metadata": {},
   "source": [
    "#### Insights\n",
    "- Longer term loans have much higher risk regardless of what purpose they are taken for"
   ]
  },
  {
   "cell_type": "code",
   "execution_count": 72,
   "metadata": {
    "scrolled": true
   },
   "outputs": [
    {
     "data": {
      "text/plain": [
       "count    38577.000000\n",
       "mean     10222.481123\n",
       "std       7022.720644\n",
       "min          0.000000\n",
       "25%       5000.000000\n",
       "50%       8733.440000\n",
       "75%      14000.000000\n",
       "max      35000.000000\n",
       "Name: funded_amnt_inv, dtype: float64"
      ]
     },
     "execution_count": 72,
     "metadata": {},
     "output_type": "execute_result"
    }
   ],
   "source": [
    "LC[\"funded_amnt_inv\"].describe()\n"
   ]
  },
  {
   "cell_type": "markdown",
   "metadata": {},
   "source": [
    "- Categorize funded amount using the buckets seen from the ranges above"
   ]
  },
  {
   "cell_type": "code",
   "execution_count": 73,
   "metadata": {},
   "outputs": [
    {
     "data": {
      "image/png": "[encoded data removed]",
      "text/plain": [
       "<Figure size 1080x504 with 1 Axes>"
      ]
     },
     "metadata": {
      "needs_background": "light"
     },
     "output_type": "display_data"
    }
   ],
   "source": [
    "LC[\"loan_size\"]=pd.cut(LC[\"funded_amnt_inv\"],[0,5000,9000,14500,35000],labels=[\"small\",\"medium\",\"large\",\"xtralarge\"])\n",
    "loansize=LC.groupby(\"loan_size\").count().sort_values(by=\"id\",ascending=False).reset_index()\n",
    "plot_id(2,loansize,\"loan_size\",\"id\",\"Loan Amount from investors\",\"Loan Amount from investors\",\"count\",0)"
   ]
  },
  {
   "cell_type": "code",
   "execution_count": 74,
   "metadata": {
    "scrolled": true
   },
   "outputs": [
    {
     "data": {
      "image/png": "[encoded data removed]",
      "text/plain": [
       "<Figure size 1440x864 with 1 Axes>"
      ]
     },
     "metadata": {
      "needs_background": "light"
     },
     "output_type": "display_data"
    }
   ],
   "source": [
    "seg_loan_status(df=LC,factor=\"loan_size\",filterpct=3, title=\"Funded Amount v/s Charge Offs\")"
   ]
  },
  {
   "cell_type": "markdown",
   "metadata": {},
   "source": [
    "#### Insights\n",
    "- Xtra large & small buckets see higher chance of defaulters than midsized loans"
   ]
  },
  {
   "cell_type": "code",
   "execution_count": 75,
   "metadata": {
    "scrolled": false
   },
   "outputs": [
    {
     "data": {
      "image/png": "[encoded data removed]",
      "text/plain": [
       "<Figure size 1440x864 with 1 Axes>"
      ]
     },
     "metadata": {
      "needs_background": "light"
     },
     "output_type": "display_data"
    }
   ],
   "source": [
    "seg_loan_status(df=LC,factor=\"loan_size\",hue=\"term\")"
   ]
  },
  {
   "cell_type": "markdown",
   "metadata": {},
   "source": [
    "#### Insights\n",
    "- Long term loans have higher chance of default across all loan sizes"
   ]
  },
  {
   "cell_type": "markdown",
   "metadata": {},
   "source": [
    "- Combine all \"verified\" borrowers to one bucket and plot against charge offs"
   ]
  },
  {
   "cell_type": "code",
   "execution_count": 76,
   "metadata": {
    "scrolled": false
   },
   "outputs": [
    {
     "data": {
      "image/png": "[encoded data removed]",
      "text/plain": [
       "<Figure size 1440x864 with 1 Axes>"
      ]
     },
     "metadata": {
      "needs_background": "light"
     },
     "output_type": "display_data"
    }
   ],
   "source": [
    "LC.loc[LC[\"verification_status\"].isin([\"Source Verified\",\"Verified\"]),\"verification_status\"]=\"Verified\"\n",
    "seg_loan_status(df=LC,factor=\"verification_status\",hue=\"grade\",filterpct=3)"
   ]
  },
  {
   "cell_type": "markdown",
   "metadata": {},
   "source": [
    "#### Insights\n",
    "For cases not verified we see a higher probability of charge off"
   ]
  },
  {
   "cell_type": "markdown",
   "metadata": {},
   "source": [
    "- Convert DTI to different buckets using the quartile ranges "
   ]
  },
  {
   "cell_type": "code",
   "execution_count": 77,
   "metadata": {},
   "outputs": [
    {
     "data": {
      "text/plain": [
       "count    38577.000000\n",
       "mean        13.272727\n",
       "std          6.673044\n",
       "min          0.000000\n",
       "25%          8.130000\n",
       "50%         13.370000\n",
       "75%         18.560000\n",
       "max         29.990000\n",
       "Name: dti, dtype: float64"
      ]
     },
     "execution_count": 77,
     "metadata": {},
     "output_type": "execute_result"
    }
   ],
   "source": [
    "LC[\"dti\"].describe()"
   ]
  },
  {
   "cell_type": "code",
   "execution_count": 78,
   "metadata": {},
   "outputs": [],
   "source": [
    "LC[\"dti_categ\"]=pd.cut(LC[\"dti\"],[0,8.14,13.38,18.57,30],labels=[\"small\",\"medium\",\"large\",\"xtralarge\"])"
   ]
  },
  {
   "cell_type": "code",
   "execution_count": 79,
   "metadata": {},
   "outputs": [
    {
     "data": {
      "image/png": "[encoded data removed]",
      "text/plain": [
       "<Figure size 1440x864 with 1 Axes>"
      ]
     },
     "metadata": {
      "needs_background": "light"
     },
     "output_type": "display_data"
    }
   ],
   "source": [
    "seg_loan_status(df=LC,factor=\"dti_categ\",filterpct=3)"
   ]
  },
  {
   "cell_type": "code",
   "execution_count": null,
   "metadata": {},
   "outputs": [],
   "source": []
  }
 ],
 "metadata": {
  "kernelspec": {
   "display_name": "Python 3",
   "language": "python",
   "name": "python3"
  },
  "language_info": {
   "codemirror_mode": {
    "name": "ipython",
    "version": 3
   },
   "file_extension": ".py",
   "mimetype": "text/x-python",
   "name": "python",
   "nbconvert_exporter": "python",
   "pygments_lexer": "ipython3",
   "version": "3.7.6"
  }
 },
 "nbformat": 4,
 "nbformat_minor": 4
}
