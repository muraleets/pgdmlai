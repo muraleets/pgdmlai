{
 "cells": [
  {
   "cell_type": "markdown",
   "metadata": {},
   "source": [
    "# Investment Assignment \n",
    "_Submitted by Muraleedharan Subramanian_ \n",
    "<hr>\n",
    "\n",
    "- bullet points marked in <font color=\"blue\"> __blue__ </font> are followed by code for answers required in spreadsheet\n",
    "<br><br>\n",
    "- Load csv files to dataframes (assuming files will be in the notebook directory)"
   ]
  },
  {
   "cell_type": "code",
   "execution_count": 2,
   "metadata": {},
   "outputs": [],
   "source": [
    "import pandas as pd\n",
    "import seaborn as sns\n",
    "import matplotlib.pyplot as plt\n",
    "\n",
    "\n",
    "companies = pd.read_csv('companies.csv',encoding = \"ISO-8859-1\")\n",
    "rounds2 = pd.read_csv('rounds2.csv',encoding = \"ISO-8859-1\")"
   ]
  },
  {
   "cell_type": "markdown",
   "metadata": {},
   "source": [
    "- Describe companies dataframe to insect the data frame"
   ]
  },
  {
   "cell_type": "code",
   "execution_count": 3,
   "metadata": {},
   "outputs": [
    {
     "data": {
      "text/html": [
       "<div>\n",
       "<style scoped>\n",
       "    .dataframe tbody tr th:only-of-type {\n",
       "        vertical-align: middle;\n",
       "    }\n",
       "\n",
       "    .dataframe tbody tr th {\n",
       "        vertical-align: top;\n",
       "    }\n",
       "\n",
       "    .dataframe thead th {\n",
       "        text-align: right;\n",
       "    }\n",
       "</style>\n",
       "<table border=\"1\" class=\"dataframe\">\n",
       "  <thead>\n",
       "    <tr style=\"text-align: right;\">\n",
       "      <th></th>\n",
       "      <th>permalink</th>\n",
       "      <th>name</th>\n",
       "      <th>homepage_url</th>\n",
       "      <th>category_list</th>\n",
       "      <th>status</th>\n",
       "      <th>country_code</th>\n",
       "      <th>state_code</th>\n",
       "      <th>region</th>\n",
       "      <th>city</th>\n",
       "      <th>founded_at</th>\n",
       "    </tr>\n",
       "  </thead>\n",
       "  <tbody>\n",
       "    <tr>\n",
       "      <th>count</th>\n",
       "      <td>66368</td>\n",
       "      <td>66367</td>\n",
       "      <td>61310</td>\n",
       "      <td>63220</td>\n",
       "      <td>66368</td>\n",
       "      <td>59410</td>\n",
       "      <td>57821</td>\n",
       "      <td>58338</td>\n",
       "      <td>58340</td>\n",
       "      <td>51147</td>\n",
       "    </tr>\n",
       "    <tr>\n",
       "      <th>unique</th>\n",
       "      <td>66368</td>\n",
       "      <td>66099</td>\n",
       "      <td>61191</td>\n",
       "      <td>27296</td>\n",
       "      <td>4</td>\n",
       "      <td>137</td>\n",
       "      <td>311</td>\n",
       "      <td>1092</td>\n",
       "      <td>5111</td>\n",
       "      <td>3978</td>\n",
       "    </tr>\n",
       "    <tr>\n",
       "      <th>top</th>\n",
       "      <td>/Organization/Nom</td>\n",
       "      <td>Roost</td>\n",
       "      <td>http://www.askforoffer.com</td>\n",
       "      <td>Software</td>\n",
       "      <td>operating</td>\n",
       "      <td>USA</td>\n",
       "      <td>CA</td>\n",
       "      <td>SF Bay Area</td>\n",
       "      <td>San Francisco</td>\n",
       "      <td>01-01-2012</td>\n",
       "    </tr>\n",
       "    <tr>\n",
       "      <th>freq</th>\n",
       "      <td>1</td>\n",
       "      <td>4</td>\n",
       "      <td>5</td>\n",
       "      <td>3995</td>\n",
       "      <td>53034</td>\n",
       "      <td>37601</td>\n",
       "      <td>12900</td>\n",
       "      <td>8804</td>\n",
       "      <td>3526</td>\n",
       "      <td>2730</td>\n",
       "    </tr>\n",
       "  </tbody>\n",
       "</table>\n",
       "</div>"
      ],
      "text/plain": [
       "                permalink   name                homepage_url category_list  \\\n",
       "count               66368  66367                       61310         63220   \n",
       "unique              66368  66099                       61191         27296   \n",
       "top     /Organization/Nom  Roost  http://www.askforoffer.com      Software   \n",
       "freq                    1      4                           5          3995   \n",
       "\n",
       "           status country_code state_code       region           city  \\\n",
       "count       66368        59410      57821        58338          58340   \n",
       "unique          4          137        311         1092           5111   \n",
       "top     operating          USA         CA  SF Bay Area  San Francisco   \n",
       "freq        53034        37601      12900         8804           3526   \n",
       "\n",
       "        founded_at  \n",
       "count        51147  \n",
       "unique        3978  \n",
       "top     01-01-2012  \n",
       "freq          2730  "
      ]
     },
     "execution_count": 3,
     "metadata": {},
     "output_type": "execute_result"
    }
   ],
   "source": [
    "companies.describe()"
   ]
  },
  {
   "cell_type": "markdown",
   "metadata": {},
   "source": [
    "permalink column is unique in every row (count=unique), hence we will use it as the key for companies.<br>\n",
    "Now lets get all unique values by dropping invalid values, and converting the key column to lower - just to be safe.<br>\n",
    "- <font color=blue>__Number of unique companies present in companies dataframe__</font>"
   ]
  },
  {
   "cell_type": "code",
   "execution_count": 4,
   "metadata": {},
   "outputs": [
    {
     "name": "stdout",
     "output_type": "stream",
     "text": [
      "66368\n"
     ]
    }
   ],
   "source": [
    "companies[\"permalink\"]=companies[\"permalink\"].str.lower()\n",
    "unique_value_companies = companies[\"permalink\"].nunique(dropna = True) \n",
    "print(unique_value_companies)"
   ]
  },
  {
   "cell_type": "markdown",
   "metadata": {},
   "source": [
    "- Head() of rounds2 dataframe to get the columns and sample data"
   ]
  },
  {
   "cell_type": "code",
   "execution_count": 5,
   "metadata": {},
   "outputs": [
    {
     "data": {
      "text/html": [
       "<div>\n",
       "<style scoped>\n",
       "    .dataframe tbody tr th:only-of-type {\n",
       "        vertical-align: middle;\n",
       "    }\n",
       "\n",
       "    .dataframe tbody tr th {\n",
       "        vertical-align: top;\n",
       "    }\n",
       "\n",
       "    .dataframe thead th {\n",
       "        text-align: right;\n",
       "    }\n",
       "</style>\n",
       "<table border=\"1\" class=\"dataframe\">\n",
       "  <thead>\n",
       "    <tr style=\"text-align: right;\">\n",
       "      <th></th>\n",
       "      <th>company_permalink</th>\n",
       "      <th>funding_round_permalink</th>\n",
       "      <th>funding_round_type</th>\n",
       "      <th>funding_round_code</th>\n",
       "      <th>funded_at</th>\n",
       "      <th>raised_amount_usd</th>\n",
       "    </tr>\n",
       "  </thead>\n",
       "  <tbody>\n",
       "    <tr>\n",
       "      <th>0</th>\n",
       "      <td>/organization/-fame</td>\n",
       "      <td>/funding-round/9a01d05418af9f794eebff7ace91f638</td>\n",
       "      <td>venture</td>\n",
       "      <td>B</td>\n",
       "      <td>05-01-2015</td>\n",
       "      <td>10000000.0</td>\n",
       "    </tr>\n",
       "    <tr>\n",
       "      <th>1</th>\n",
       "      <td>/ORGANIZATION/-QOUNTER</td>\n",
       "      <td>/funding-round/22dacff496eb7acb2b901dec1dfe5633</td>\n",
       "      <td>venture</td>\n",
       "      <td>A</td>\n",
       "      <td>14-10-2014</td>\n",
       "      <td>NaN</td>\n",
       "    </tr>\n",
       "    <tr>\n",
       "      <th>2</th>\n",
       "      <td>/organization/-qounter</td>\n",
       "      <td>/funding-round/b44fbb94153f6cdef13083530bb48030</td>\n",
       "      <td>seed</td>\n",
       "      <td>NaN</td>\n",
       "      <td>01-03-2014</td>\n",
       "      <td>700000.0</td>\n",
       "    </tr>\n",
       "    <tr>\n",
       "      <th>3</th>\n",
       "      <td>/ORGANIZATION/-THE-ONE-OF-THEM-INC-</td>\n",
       "      <td>/funding-round/650b8f704416801069bb178a1418776b</td>\n",
       "      <td>venture</td>\n",
       "      <td>B</td>\n",
       "      <td>30-01-2014</td>\n",
       "      <td>3406878.0</td>\n",
       "    </tr>\n",
       "    <tr>\n",
       "      <th>4</th>\n",
       "      <td>/organization/0-6-com</td>\n",
       "      <td>/funding-round/5727accaeaa57461bd22a9bdd945382d</td>\n",
       "      <td>venture</td>\n",
       "      <td>A</td>\n",
       "      <td>19-03-2008</td>\n",
       "      <td>2000000.0</td>\n",
       "    </tr>\n",
       "  </tbody>\n",
       "</table>\n",
       "</div>"
      ],
      "text/plain": [
       "                     company_permalink  \\\n",
       "0                  /organization/-fame   \n",
       "1               /ORGANIZATION/-QOUNTER   \n",
       "2               /organization/-qounter   \n",
       "3  /ORGANIZATION/-THE-ONE-OF-THEM-INC-   \n",
       "4                /organization/0-6-com   \n",
       "\n",
       "                           funding_round_permalink funding_round_type  \\\n",
       "0  /funding-round/9a01d05418af9f794eebff7ace91f638            venture   \n",
       "1  /funding-round/22dacff496eb7acb2b901dec1dfe5633            venture   \n",
       "2  /funding-round/b44fbb94153f6cdef13083530bb48030               seed   \n",
       "3  /funding-round/650b8f704416801069bb178a1418776b            venture   \n",
       "4  /funding-round/5727accaeaa57461bd22a9bdd945382d            venture   \n",
       "\n",
       "  funding_round_code   funded_at  raised_amount_usd  \n",
       "0                  B  05-01-2015         10000000.0  \n",
       "1                  A  14-10-2014                NaN  \n",
       "2                NaN  01-03-2014           700000.0  \n",
       "3                  B  30-01-2014          3406878.0  \n",
       "4                  A  19-03-2008          2000000.0  "
      ]
     },
     "execution_count": 5,
     "metadata": {},
     "output_type": "execute_result"
    }
   ],
   "source": [
    "rounds2.head()"
   ]
  },
  {
   "cell_type": "markdown",
   "metadata": {},
   "source": [
    "- Describe to see which column is unique key here (count=unique)\n"
   ]
  },
  {
   "cell_type": "code",
   "execution_count": 6,
   "metadata": {},
   "outputs": [
    {
     "data": {
      "text/html": [
       "<div>\n",
       "<style scoped>\n",
       "    .dataframe tbody tr th:only-of-type {\n",
       "        vertical-align: middle;\n",
       "    }\n",
       "\n",
       "    .dataframe tbody tr th {\n",
       "        vertical-align: top;\n",
       "    }\n",
       "\n",
       "    .dataframe thead th {\n",
       "        text-align: right;\n",
       "    }\n",
       "</style>\n",
       "<table border=\"1\" class=\"dataframe\">\n",
       "  <thead>\n",
       "    <tr style=\"text-align: right;\">\n",
       "      <th></th>\n",
       "      <th>company_permalink</th>\n",
       "      <th>funding_round_permalink</th>\n",
       "    </tr>\n",
       "  </thead>\n",
       "  <tbody>\n",
       "    <tr>\n",
       "      <th>count</th>\n",
       "      <td>114949</td>\n",
       "      <td>114949</td>\n",
       "    </tr>\n",
       "    <tr>\n",
       "      <th>unique</th>\n",
       "      <td>90247</td>\n",
       "      <td>114949</td>\n",
       "    </tr>\n",
       "    <tr>\n",
       "      <th>top</th>\n",
       "      <td>/ORGANIZATION/SOLARFLARE</td>\n",
       "      <td>/funding-round/25a17c61849a577c012eb14f716111a2</td>\n",
       "    </tr>\n",
       "    <tr>\n",
       "      <th>freq</th>\n",
       "      <td>10</td>\n",
       "      <td>1</td>\n",
       "    </tr>\n",
       "  </tbody>\n",
       "</table>\n",
       "</div>"
      ],
      "text/plain": [
       "               company_permalink  \\\n",
       "count                     114949   \n",
       "unique                     90247   \n",
       "top     /ORGANIZATION/SOLARFLARE   \n",
       "freq                          10   \n",
       "\n",
       "                                funding_round_permalink  \n",
       "count                                            114949  \n",
       "unique                                           114949  \n",
       "top     /funding-round/25a17c61849a577c012eb14f716111a2  \n",
       "freq                                                  1  "
      ]
     },
     "execution_count": 6,
     "metadata": {},
     "output_type": "execute_result"
    }
   ],
   "source": [
    "rounds2.loc[:,[\"company_permalink\",\"funding_round_permalink\"]].describe()"
   ]
  },
  {
   "cell_type": "markdown",
   "metadata": {},
   "source": [
    "Convert company_permalink to lower case and use nunique() to get<br>\n",
    "- <font color=blue>__Unique companies in rounds2 dataframe__</font>"
   ]
  },
  {
   "cell_type": "code",
   "execution_count": 7,
   "metadata": {},
   "outputs": [
    {
     "name": "stdout",
     "output_type": "stream",
     "text": [
      "66370\n"
     ]
    }
   ],
   "source": [
    "rounds2[\"company_permalink\"]=rounds2[\"company_permalink\"].str.lower()\n",
    "unique_value_rounds2 = rounds2[\"company_permalink\"].nunique(dropna = True) \n",
    "print(unique_value_rounds2)"
   ]
  },
  {
   "cell_type": "markdown",
   "metadata": {},
   "source": [
    "To check if we have companies that are present only in rounds2 dataframe <br>\n",
    "- Using a left outer join to create master frame with indicator column. <br>\n",
    "- If we see indicator column with left-only they are present only in rounds2 <br>\n",
    "\n",
    "From the output we can see there are a few with special cahareters in permalink,<br>\n",
    "but there is one company that seem to have a proper name, present only in rounds2"
   ]
  },
  {
   "cell_type": "code",
   "execution_count": 8,
   "metadata": {},
   "outputs": [
    {
     "data": {
      "text/html": [
       "<div>\n",
       "<style scoped>\n",
       "    .dataframe tbody tr th:only-of-type {\n",
       "        vertical-align: middle;\n",
       "    }\n",
       "\n",
       "    .dataframe tbody tr th {\n",
       "        vertical-align: top;\n",
       "    }\n",
       "\n",
       "    .dataframe thead th {\n",
       "        text-align: right;\n",
       "    }\n",
       "</style>\n",
       "<table border=\"1\" class=\"dataframe\">\n",
       "  <thead>\n",
       "    <tr style=\"text-align: right;\">\n",
       "      <th></th>\n",
       "      <th>company_permalink</th>\n",
       "      <th>_merge</th>\n",
       "    </tr>\n",
       "  </thead>\n",
       "  <tbody>\n",
       "    <tr>\n",
       "      <th>29597</th>\n",
       "      <td>/organization/e-cãbica</td>\n",
       "      <td>left_only</td>\n",
       "    </tr>\n",
       "    <tr>\n",
       "      <th>31863</th>\n",
       "      <td>/organization/energystone-games-çµç³æ¸¸æ</td>\n",
       "      <td>left_only</td>\n",
       "    </tr>\n",
       "    <tr>\n",
       "      <th>45176</th>\n",
       "      <td>/organization/huizuche-com-æ ç§ÿè½¦</td>\n",
       "      <td>left_only</td>\n",
       "    </tr>\n",
       "    <tr>\n",
       "      <th>58473</th>\n",
       "      <td>/organization/magnet-tech-ç£ç³ç§æ</td>\n",
       "      <td>left_only</td>\n",
       "    </tr>\n",
       "    <tr>\n",
       "      <th>101036</th>\n",
       "      <td>/organization/tipcat-interactive-æ²èÿä¿¡æ¯ç...</td>\n",
       "      <td>left_only</td>\n",
       "    </tr>\n",
       "    <tr>\n",
       "      <th>109969</th>\n",
       "      <td>/organization/weiche-tech-åè½¦ç§æ</td>\n",
       "      <td>left_only</td>\n",
       "    </tr>\n",
       "    <tr>\n",
       "      <th>113839</th>\n",
       "      <td>/organization/zengame-ç¦",
       "æ¸¸ç§æ</td>\n",
       "      <td>left_only</td>\n",
       "    </tr>\n",
       "  </tbody>\n",
       "</table>\n",
       "</div>"
      ],
      "text/plain": [
       "                                        company_permalink     _merge\n",
       "29597                             /organization/e-cãbica  left_only\n",
       "31863        /organization/energystone-games-çµç³æ¸¸æ  left_only\n",
       "45176                /organization/huizuche-com-æ ç§ÿè½¦  left_only\n",
       "58473              /organization/magnet-tech-ç£ç³ç§æ  left_only\n",
       "101036  /organization/tipcat-interactive-æ²èÿä¿¡æ¯ç...  left_only\n",
       "109969             /organization/weiche-tech-åè½¦ç§æ  left_only\n",
       "113839                 /organization/zengame-ç¦\n",
       "æ¸¸ç§æ  left_only"
      ]
     },
     "execution_count": 8,
     "metadata": {},
     "output_type": "execute_result"
    }
   ],
   "source": [
    "master_frame = pd.merge(rounds2,companies,left_on=\"company_permalink\",right_on=\"permalink\",how=\"left\",indicator=True)\n",
    "master_frame.loc[master_frame[\"_merge\"]!=\"both\"][[\"company_permalink\",\"_merge\"]]"
   ]
  },
  {
   "cell_type": "markdown",
   "metadata": {},
   "source": [
    "Merge _rounds2_ and _companies_ dataframe to _master_frame_ dataframe.<br>\n",
    "Using inner join to avoid invalid values for company details."
   ]
  },
  {
   "cell_type": "code",
   "execution_count": 9,
   "metadata": {},
   "outputs": [
    {
     "data": {
      "text/plain": [
       "count                       114942\n",
       "unique                       66363\n",
       "top       /organization/solarflare\n",
       "freq                            19\n",
       "Name: company_permalink, dtype: object"
      ]
     },
     "execution_count": 9,
     "metadata": {},
     "output_type": "execute_result"
    }
   ],
   "source": [
    "master_frame = pd.merge(rounds2,companies,left_on=\"company_permalink\",right_on=\"permalink\",how=\"inner\")\n",
    "\n",
    "master_frame[\"company_permalink\"].describe()"
   ]
  },
  {
   "cell_type": "markdown",
   "metadata": {},
   "source": [
    "- <font color=blue>__Number of Observations in master_frame__</font>"
   ]
  },
  {
   "cell_type": "code",
   "execution_count": 10,
   "metadata": {},
   "outputs": [
    {
     "name": "stdout",
     "output_type": "stream",
     "text": [
      "114942\n"
     ]
    }
   ],
   "source": [
    "print(len(master_frame))"
   ]
  },
  {
   "cell_type": "markdown",
   "metadata": {},
   "source": [
    "- Clean data in master frame\n",
    " - raised_amount_usd == null will not be useful \n",
    " - if country code is not available, drop those rows\n",
    " - Without category list, we can't make any useful ineferences\n",
    " - if raised_amount_usd is zero, it could be an error, not useful for analysis"
   ]
  },
  {
   "cell_type": "code",
   "execution_count": 11,
   "metadata": {},
   "outputs": [],
   "source": [
    "master_frame=master_frame.loc[pd.notnull(master_frame[\"raised_amount_usd\"])]\n",
    "master_frame=master_frame.loc[pd.notnull(master_frame[\"country_code\"])]\n",
    "master_frame=master_frame.loc[pd.notnull(master_frame[\"category_list\"])]\n",
    "master_frame=master_frame.loc[master_frame[\"raised_amount_usd\"]!=0]\n",
    "\n",
    "#Convert the raised amount to millions for easy readability\n",
    "master_frame[\"raised_amount_usd\"]=master_frame[\"raised_amount_usd\"]/1000000"
   ]
  },
  {
   "cell_type": "markdown",
   "metadata": {},
   "source": [
    "- Assumption: We need to look into only the 4 funding types of interest <br>\n",
    "    angel, venture, seed & private_equity\n",
    "- Even if some companies recieved other type of funding, not using for this analysis"
   ]
  },
  {
   "cell_type": "code",
   "execution_count": 12,
   "metadata": {},
   "outputs": [],
   "source": [
    "\n",
    "master_frame = master_frame.loc[master_frame[\"funding_round_type\"].isin([\"angel\",\"venture\",\"seed\",\"private_equity\"])]"
   ]
  },
  {
   "cell_type": "markdown",
   "metadata": {},
   "source": [
    "- Group by funding type and describe to see the stats for each funding type"
   ]
  },
  {
   "cell_type": "code",
   "execution_count": 13,
   "metadata": {},
   "outputs": [
    {
     "data": {
      "text/html": [
       "<div>\n",
       "<style scoped>\n",
       "    .dataframe tbody tr th:only-of-type {\n",
       "        vertical-align: middle;\n",
       "    }\n",
       "\n",
       "    .dataframe tbody tr th {\n",
       "        vertical-align: top;\n",
       "    }\n",
       "\n",
       "    .dataframe thead tr th {\n",
       "        text-align: left;\n",
       "    }\n",
       "\n",
       "    .dataframe thead tr:last-of-type th {\n",
       "        text-align: right;\n",
       "    }\n",
       "</style>\n",
       "<table border=\"1\" class=\"dataframe\">\n",
       "  <thead>\n",
       "    <tr>\n",
       "      <th></th>\n",
       "      <th colspan=\"8\" halign=\"left\">raised_amount_usd</th>\n",
       "    </tr>\n",
       "    <tr>\n",
       "      <th></th>\n",
       "      <th>count</th>\n",
       "      <th>mean</th>\n",
       "      <th>std</th>\n",
       "      <th>min</th>\n",
       "      <th>25%</th>\n",
       "      <th>50%</th>\n",
       "      <th>75%</th>\n",
       "      <th>max</th>\n",
       "    </tr>\n",
       "    <tr>\n",
       "      <th>funding_round_type</th>\n",
       "      <th></th>\n",
       "      <th></th>\n",
       "      <th></th>\n",
       "      <th></th>\n",
       "      <th></th>\n",
       "      <th></th>\n",
       "      <th></th>\n",
       "      <th></th>\n",
       "    </tr>\n",
       "  </thead>\n",
       "  <tbody>\n",
       "    <tr>\n",
       "      <th>angel</th>\n",
       "      <td>4373.0</td>\n",
       "      <td>0.977573</td>\n",
       "      <td>7.734298</td>\n",
       "      <td>0.000012</td>\n",
       "      <td>0.15962</td>\n",
       "      <td>0.425</td>\n",
       "      <td>1.000000</td>\n",
       "      <td>494.511992</td>\n",
       "    </tr>\n",
       "    <tr>\n",
       "      <th>private_equity</th>\n",
       "      <td>1819.0</td>\n",
       "      <td>73.979134</td>\n",
       "      <td>201.824500</td>\n",
       "      <td>0.001660</td>\n",
       "      <td>5.00000</td>\n",
       "      <td>20.000</td>\n",
       "      <td>75.762572</td>\n",
       "      <td>4745.460219</td>\n",
       "    </tr>\n",
       "    <tr>\n",
       "      <th>seed</th>\n",
       "      <td>21024.0</td>\n",
       "      <td>0.750319</td>\n",
       "      <td>2.291765</td>\n",
       "      <td>0.000001</td>\n",
       "      <td>0.07000</td>\n",
       "      <td>0.300</td>\n",
       "      <td>1.000000</td>\n",
       "      <td>200.000000</td>\n",
       "    </tr>\n",
       "    <tr>\n",
       "      <th>venture</th>\n",
       "      <td>47786.0</td>\n",
       "      <td>11.729866</td>\n",
       "      <td>88.236566</td>\n",
       "      <td>0.000001</td>\n",
       "      <td>1.60000</td>\n",
       "      <td>5.000</td>\n",
       "      <td>12.000000</td>\n",
       "      <td>17600.000000</td>\n",
       "    </tr>\n",
       "  </tbody>\n",
       "</table>\n",
       "</div>"
      ],
      "text/plain": [
       "                   raised_amount_usd                                   \\\n",
       "                               count       mean         std       min   \n",
       "funding_round_type                                                      \n",
       "angel                         4373.0   0.977573    7.734298  0.000012   \n",
       "private_equity                1819.0  73.979134  201.824500  0.001660   \n",
       "seed                         21024.0   0.750319    2.291765  0.000001   \n",
       "venture                      47786.0  11.729866   88.236566  0.000001   \n",
       "\n",
       "                                                              \n",
       "                        25%     50%        75%           max  \n",
       "funding_round_type                                            \n",
       "angel               0.15962   0.425   1.000000    494.511992  \n",
       "private_equity      5.00000  20.000  75.762572   4745.460219  \n",
       "seed                0.07000   0.300   1.000000    200.000000  \n",
       "venture             1.60000   5.000  12.000000  17600.000000  "
      ]
     },
     "execution_count": 13,
     "metadata": {},
     "output_type": "execute_result"
    }
   ],
   "source": [
    "master_frame.groupby(\"funding_round_type\").describe()"
   ]
  },
  {
   "cell_type": "markdown",
   "metadata": {},
   "source": [
    "- Use plots to determine the best representative value for the 4 investment types of interest\n",
    "venture, seed, private_equity & angel"
   ]
  },
  {
   "cell_type": "code",
   "execution_count": 14,
   "metadata": {
    "scrolled": true
   },
   "outputs": [
    {
     "data": {
      "image/png": "[encoded data removed]",
      "text/plain": [
       "<Figure size 1440x864 with 2 Axes>"
      ]
     },
     "metadata": {
      "needs_background": "light"
     },
     "output_type": "display_data"
    }
   ],
   "source": [
    "from numpy import mean,median\n",
    "plt.figure(num=1,figsize=(20,12))\n",
    "plt.subplot(221)\n",
    "\n",
    "chart=sns.barplot(x=\"funding_round_type\",y=\"raised_amount_usd\", data=master_frame, estimator=mean)\n",
    "plt.yscale(\"log\")\n",
    "chart.set_title(\"MEAN investment\",fontsize=20, color=\"blue\")\n",
    "chart.axes.hlines( y = 15, color='green', linewidth=1, alpha=.7, \n",
    "                         xmin = -1, xmax = 4, label=\"mean1\") \n",
    "chart.axes.hlines( y = 5, color='green', linewidth=1, alpha=.7, \n",
    "                         xmin = -1, xmax = 4, label=\"mean2\") \n",
    "chart.set_xlabel(\"funding type\", fontsize=12,color=\"green\", weight=\"bold\")\n",
    "chart.set_ylabel(\"mean investment\", fontsize=12,color=\"green\", weight=\"bold\")\n",
    "\n",
    "plt.text(x=3.5,y=5,s=\"Min=5 mn\",fontsize=10,weight=\"bold\")\n",
    "plt.text(x=3.5,y=15,s=\"Max=15 mn\",fontsize=10,weight=\"bold\")\n",
    "plt.subplot(222)\n",
    "chart2=sns.barplot(x=\"funding_round_type\",y=\"raised_amount_usd\", data=master_frame, estimator=median)\n",
    "plt.yscale(\"log\")\n",
    "plt.text(x=3.5,y=5,s=\"Min=5 mn\",fontsize=10,weight=\"bold\")\n",
    "plt.text(x=3.5,y=15,s=\"Max=15 mn\",fontsize=10,weight=\"bold\")\n",
    "chart2.set_title(\"MEDIAN investment\",fontsize=20, color=\"blue\")\n",
    "chart2.axes.hlines( y = 15, color='green', linewidth=1, alpha=.7, \n",
    "                         xmin = -1, xmax = 4, label=\"median1\") \n",
    "chart2.axes.hlines( y = 5, color='green', linewidth=1, alpha=.7, \n",
    "                         xmin = -1, xmax = 4, label=\"median2\") \n",
    "chart2.set_xlabel(\"funding type\", fontsize=12,color=\"green\", weight=\"bold\")\n",
    "chart2.set_ylabel(\"median investment\", fontsize=12,color=\"green\", weight=\"bold\")\n",
    "plt.show()"
   ]
  },
  {
   "cell_type": "markdown",
   "metadata": {},
   "source": [
    "- From the plots above it is clear regardless of whether we consider mean or median<br>\n",
    "  __only venture type funding seem to fit our criteria of 5 million to 15 million range__\n",
    "  \n",
    "- Another plot to check which type pf funding is more popular by count"
   ]
  },
  {
   "cell_type": "code",
   "execution_count": 15,
   "metadata": {},
   "outputs": [
    {
     "data": {
      "image/png": "[encoded data removed]",
      "text/plain": [
       "<Figure size 432x288 with 1 Axes>"
      ]
     },
     "metadata": {
      "needs_background": "light"
     },
     "output_type": "display_data"
    }
   ],
   "source": [
    "chart3 = sns.countplot(x=\"funding_round_type\", data=master_frame)\n",
    "chart3.set_title(\"Number of investments\",fontsize=20, color=\"blue\")\n",
    "chart3.set_xlabel(\"funding type\", fontsize=12,color=\"green\", weight=\"bold\")\n",
    "chart3.set_ylabel(\"number of investments made\", fontsize=12,color=\"green\", weight=\"bold\")\n",
    "\n",
    "plt.show()"
   ]
  },
  {
   "cell_type": "markdown",
   "metadata": {},
   "source": [
    "- Venture seem to be the popular one in terms of number of investments.\n",
    "\n",
    "Let's get the answers for representative numbers for each investment type<br>\n",
    "Going with mean as we saw from plots that final outcome is same regardless of which statistic we pick.\n",
    "- <font color=blue>__Average values of investments for each funding type (in millions)__</font>"
   ]
  },
  {
   "cell_type": "code",
   "execution_count": 16,
   "metadata": {},
   "outputs": [
    {
     "data": {
      "text/html": [
       "<div>\n",
       "<style scoped>\n",
       "    .dataframe tbody tr th:only-of-type {\n",
       "        vertical-align: middle;\n",
       "    }\n",
       "\n",
       "    .dataframe tbody tr th {\n",
       "        vertical-align: top;\n",
       "    }\n",
       "\n",
       "    .dataframe thead th {\n",
       "        text-align: right;\n",
       "    }\n",
       "</style>\n",
       "<table border=\"1\" class=\"dataframe\">\n",
       "  <thead>\n",
       "    <tr style=\"text-align: right;\">\n",
       "      <th></th>\n",
       "      <th>raised_amount_usd</th>\n",
       "    </tr>\n",
       "    <tr>\n",
       "      <th>funding_round_type</th>\n",
       "      <th></th>\n",
       "    </tr>\n",
       "  </thead>\n",
       "  <tbody>\n",
       "    <tr>\n",
       "      <th>angel</th>\n",
       "      <td>0.977573</td>\n",
       "    </tr>\n",
       "    <tr>\n",
       "      <th>private_equity</th>\n",
       "      <td>73.979134</td>\n",
       "    </tr>\n",
       "    <tr>\n",
       "      <th>seed</th>\n",
       "      <td>0.750319</td>\n",
       "    </tr>\n",
       "    <tr>\n",
       "      <th>venture</th>\n",
       "      <td>11.729866</td>\n",
       "    </tr>\n",
       "  </tbody>\n",
       "</table>\n",
       "</div>"
      ],
      "text/plain": [
       "                    raised_amount_usd\n",
       "funding_round_type                   \n",
       "angel                        0.977573\n",
       "private_equity              73.979134\n",
       "seed                         0.750319\n",
       "venture                     11.729866"
      ]
     },
     "execution_count": 16,
     "metadata": {},
     "output_type": "execute_result"
    }
   ],
   "source": [
    "master_frame.groupby(\"funding_round_type\").mean()"
   ]
  },
  {
   "cell_type": "markdown",
   "metadata": {},
   "source": [
    " - __Get country codes for english speaking countries from wikipedia__"
   ]
  },
  {
   "cell_type": "code",
   "execution_count": 17,
   "metadata": {},
   "outputs": [],
   "source": [
    "import requests\n",
    "from lxml import etree\n",
    "wiki_url = requests.get(\"https://en.wikipedia.org/wiki/List_of_territorial_entities_where_English_is_an_official_language\").text\n",
    "\n",
    "# Convert the text to a tree structure\n",
    "html = etree.HTML(wiki_url)\n",
    "\n",
    "# Get all 'tr' (rows from tables in this page), headers are tagged <th> hence will not be picked\n",
    "tr_nodes = html.xpath('//table/tbody/tr')\n",
    "\n",
    "# Get text from columns tagged <td>\n",
    "td_content = [[td.text for td in tr.xpath('td')] for tr in tr_nodes[:]]\n",
    "\n",
    "# Get country codes from the first two tables that has > 5 columns\n",
    "# Others doesn't have country code, rtsrip to remove newline \n",
    "country_codes = [td[2].rstrip() for td in td_content[1:] if len(td) > 5]\n",
    "        \n",
    "# convert to a pandas dataframe so that we could do a join with master_frame\n",
    "ccode = pd.DataFrame(country_codes)\n",
    "ccode.columns = [\"country_code\"]\n"
   ]
  },
  {
   "cell_type": "markdown",
   "metadata": {},
   "source": [
    "- Join with master_frame for english speaking countries "
   ]
  },
  {
   "cell_type": "code",
   "execution_count": 18,
   "metadata": {},
   "outputs": [],
   "source": [
    "master_frame = pd.merge(master_frame,ccode,on=\"country_code\",how=\"inner\")"
   ]
  },
  {
   "cell_type": "markdown",
   "metadata": {},
   "source": [
    "- Get a list of top countries based on total investments made across all four investment types"
   ]
  },
  {
   "cell_type": "code",
   "execution_count": 19,
   "metadata": {},
   "outputs": [
    {
     "data": {
      "text/plain": [
       "Index(['USA', 'GBR', 'IND', 'CAN', 'SGP', 'IRL', 'AUS', 'GRD', 'ZAF'], dtype='object', name='country_code')"
      ]
     },
     "execution_count": 19,
     "metadata": {},
     "output_type": "execute_result"
    }
   ],
   "source": [
    "top_countries = master_frame.groupby(\"country_code\").sum().sort_values(by=\"raised_amount_usd\",ascending=False)[:9]\n",
    "top_countries.head(9)\n",
    "top_countries.index"
   ]
  },
  {
   "cell_type": "markdown",
   "metadata": {},
   "source": [
    "- <font color=blue>__Top 3 English speaking countries__</font>"
   ]
  },
  {
   "cell_type": "code",
   "execution_count": 20,
   "metadata": {},
   "outputs": [
    {
     "name": "stdout",
     "output_type": "stream",
     "text": [
      "USA\n",
      "GBR\n",
      "IND\n"
     ]
    }
   ],
   "source": [
    "print(top_countries.index[0])\n",
    "print(top_countries.index[1])\n",
    "print(top_countries.index[2])"
   ]
  },
  {
   "cell_type": "markdown",
   "metadata": {},
   "source": [
    "- Filter master_frame to contain data only for top9 countries and create __top9__ dataframe"
   ]
  },
  {
   "cell_type": "code",
   "execution_count": 21,
   "metadata": {},
   "outputs": [],
   "source": [
    "top9=master_frame.loc[master_frame[\"country_code\"].isin(top_countries.index)]"
   ]
  },
  {
   "cell_type": "markdown",
   "metadata": {},
   "source": [
    "- Since we have selected venture funding type for analysis, remove rows for all other funding types"
   ]
  },
  {
   "cell_type": "code",
   "execution_count": 22,
   "metadata": {},
   "outputs": [
    {
     "data": {
      "text/html": [
       "<div>\n",
       "<style scoped>\n",
       "    .dataframe tbody tr th:only-of-type {\n",
       "        vertical-align: middle;\n",
       "    }\n",
       "\n",
       "    .dataframe tbody tr th {\n",
       "        vertical-align: top;\n",
       "    }\n",
       "\n",
       "    .dataframe thead th {\n",
       "        text-align: right;\n",
       "    }\n",
       "</style>\n",
       "<table border=\"1\" class=\"dataframe\">\n",
       "  <thead>\n",
       "    <tr style=\"text-align: right;\">\n",
       "      <th></th>\n",
       "      <th>raised_amount_usd</th>\n",
       "    </tr>\n",
       "  </thead>\n",
       "  <tbody>\n",
       "    <tr>\n",
       "      <th>count</th>\n",
       "      <td>40700.000000</td>\n",
       "    </tr>\n",
       "    <tr>\n",
       "      <th>mean</th>\n",
       "      <td>11.545467</td>\n",
       "    </tr>\n",
       "    <tr>\n",
       "      <th>std</th>\n",
       "      <td>94.338356</td>\n",
       "    </tr>\n",
       "    <tr>\n",
       "      <th>min</th>\n",
       "      <td>0.000001</td>\n",
       "    </tr>\n",
       "    <tr>\n",
       "      <th>25%</th>\n",
       "      <td>1.600000</td>\n",
       "    </tr>\n",
       "    <tr>\n",
       "      <th>50%</th>\n",
       "      <td>5.000000</td>\n",
       "    </tr>\n",
       "    <tr>\n",
       "      <th>75%</th>\n",
       "      <td>12.000000</td>\n",
       "    </tr>\n",
       "    <tr>\n",
       "      <th>max</th>\n",
       "      <td>17600.000000</td>\n",
       "    </tr>\n",
       "  </tbody>\n",
       "</table>\n",
       "</div>"
      ],
      "text/plain": [
       "       raised_amount_usd\n",
       "count       40700.000000\n",
       "mean           11.545467\n",
       "std            94.338356\n",
       "min             0.000001\n",
       "25%             1.600000\n",
       "50%             5.000000\n",
       "75%            12.000000\n",
       "max         17600.000000"
      ]
     },
     "execution_count": 22,
     "metadata": {},
     "output_type": "execute_result"
    }
   ],
   "source": [
    "top9=top9.loc[top9[\"funding_round_type\"]==\"venture\"]\n",
    "\n",
    "top9.describe()"
   ]
  },
  {
   "cell_type": "markdown",
   "metadata": {},
   "source": [
    "- we need to map sectors to main sectors as given in mapping.csv, create a dataframe for mapping"
   ]
  },
  {
   "cell_type": "code",
   "execution_count": 23,
   "metadata": {},
   "outputs": [
    {
     "data": {
      "text/html": [
       "<div>\n",
       "<style scoped>\n",
       "    .dataframe tbody tr th:only-of-type {\n",
       "        vertical-align: middle;\n",
       "    }\n",
       "\n",
       "    .dataframe tbody tr th {\n",
       "        vertical-align: top;\n",
       "    }\n",
       "\n",
       "    .dataframe thead th {\n",
       "        text-align: right;\n",
       "    }\n",
       "</style>\n",
       "<table border=\"1\" class=\"dataframe\">\n",
       "  <thead>\n",
       "    <tr style=\"text-align: right;\">\n",
       "      <th></th>\n",
       "      <th>category_list</th>\n",
       "      <th>Automotive &amp; Sports</th>\n",
       "      <th>Blanks</th>\n",
       "      <th>Cleantech / Semiconductors</th>\n",
       "      <th>Entertainment</th>\n",
       "      <th>Health</th>\n",
       "      <th>Manufacturing</th>\n",
       "      <th>News, Search and Messaging</th>\n",
       "      <th>Others</th>\n",
       "      <th>Social, Finance, Analytics, Advertising</th>\n",
       "    </tr>\n",
       "  </thead>\n",
       "  <tbody>\n",
       "    <tr>\n",
       "      <th>0</th>\n",
       "      <td>NaN</td>\n",
       "      <td>0</td>\n",
       "      <td>1</td>\n",
       "      <td>0</td>\n",
       "      <td>0</td>\n",
       "      <td>0</td>\n",
       "      <td>0</td>\n",
       "      <td>0</td>\n",
       "      <td>0</td>\n",
       "      <td>0</td>\n",
       "    </tr>\n",
       "    <tr>\n",
       "      <th>1</th>\n",
       "      <td>3D</td>\n",
       "      <td>0</td>\n",
       "      <td>0</td>\n",
       "      <td>0</td>\n",
       "      <td>0</td>\n",
       "      <td>0</td>\n",
       "      <td>1</td>\n",
       "      <td>0</td>\n",
       "      <td>0</td>\n",
       "      <td>0</td>\n",
       "    </tr>\n",
       "    <tr>\n",
       "      <th>2</th>\n",
       "      <td>3D Printing</td>\n",
       "      <td>0</td>\n",
       "      <td>0</td>\n",
       "      <td>0</td>\n",
       "      <td>0</td>\n",
       "      <td>0</td>\n",
       "      <td>1</td>\n",
       "      <td>0</td>\n",
       "      <td>0</td>\n",
       "      <td>0</td>\n",
       "    </tr>\n",
       "    <tr>\n",
       "      <th>3</th>\n",
       "      <td>3D Technology</td>\n",
       "      <td>0</td>\n",
       "      <td>0</td>\n",
       "      <td>0</td>\n",
       "      <td>0</td>\n",
       "      <td>0</td>\n",
       "      <td>1</td>\n",
       "      <td>0</td>\n",
       "      <td>0</td>\n",
       "      <td>0</td>\n",
       "    </tr>\n",
       "    <tr>\n",
       "      <th>4</th>\n",
       "      <td>Accounting</td>\n",
       "      <td>0</td>\n",
       "      <td>0</td>\n",
       "      <td>0</td>\n",
       "      <td>0</td>\n",
       "      <td>0</td>\n",
       "      <td>0</td>\n",
       "      <td>0</td>\n",
       "      <td>0</td>\n",
       "      <td>1</td>\n",
       "    </tr>\n",
       "  </tbody>\n",
       "</table>\n",
       "</div>"
      ],
      "text/plain": [
       "   category_list  Automotive & Sports  Blanks  Cleantech / Semiconductors  \\\n",
       "0            NaN                    0       1                           0   \n",
       "1             3D                    0       0                           0   \n",
       "2    3D Printing                    0       0                           0   \n",
       "3  3D Technology                    0       0                           0   \n",
       "4     Accounting                    0       0                           0   \n",
       "\n",
       "   Entertainment  Health  Manufacturing  News, Search and Messaging  Others  \\\n",
       "0              0       0              0                           0       0   \n",
       "1              0       0              1                           0       0   \n",
       "2              0       0              1                           0       0   \n",
       "3              0       0              1                           0       0   \n",
       "4              0       0              0                           0       0   \n",
       "\n",
       "   Social, Finance, Analytics, Advertising  \n",
       "0                                        0  \n",
       "1                                        0  \n",
       "2                                        0  \n",
       "3                                        0  \n",
       "4                                        1  "
      ]
     },
     "execution_count": 23,
     "metadata": {},
     "output_type": "execute_result"
    }
   ],
   "source": [
    "mapping = pd.read_csv(\"mapping.csv\", encoding = \"ISO-8859-1\")\n",
    "mapping.head()"
   ]
  },
  {
   "cell_type": "markdown",
   "metadata": {},
   "source": [
    "- We need to convert this to name to name mapping for joining with top9 dataframe"
   ]
  },
  {
   "cell_type": "code",
   "execution_count": 24,
   "metadata": {},
   "outputs": [
    {
     "data": {
      "text/html": [
       "<div>\n",
       "<style scoped>\n",
       "    .dataframe tbody tr th:only-of-type {\n",
       "        vertical-align: middle;\n",
       "    }\n",
       "\n",
       "    .dataframe tbody tr th {\n",
       "        vertical-align: top;\n",
       "    }\n",
       "\n",
       "    .dataframe thead th {\n",
       "        text-align: right;\n",
       "    }\n",
       "</style>\n",
       "<table border=\"1\" class=\"dataframe\">\n",
       "  <thead>\n",
       "    <tr style=\"text-align: right;\">\n",
       "      <th></th>\n",
       "      <th>primary_sector</th>\n",
       "      <th>main_sector</th>\n",
       "      <th>value</th>\n",
       "    </tr>\n",
       "  </thead>\n",
       "  <tbody>\n",
       "    <tr>\n",
       "      <th>1</th>\n",
       "      <td>3D</td>\n",
       "      <td>Automotive &amp; Sports</td>\n",
       "      <td>0</td>\n",
       "    </tr>\n",
       "    <tr>\n",
       "      <th>689</th>\n",
       "      <td>3D</td>\n",
       "      <td>Blanks</td>\n",
       "      <td>0</td>\n",
       "    </tr>\n",
       "    <tr>\n",
       "      <th>1377</th>\n",
       "      <td>3D</td>\n",
       "      <td>Cleantech / Semiconductors</td>\n",
       "      <td>0</td>\n",
       "    </tr>\n",
       "    <tr>\n",
       "      <th>2065</th>\n",
       "      <td>3D</td>\n",
       "      <td>Entertainment</td>\n",
       "      <td>0</td>\n",
       "    </tr>\n",
       "    <tr>\n",
       "      <th>2753</th>\n",
       "      <td>3D</td>\n",
       "      <td>Health</td>\n",
       "      <td>0</td>\n",
       "    </tr>\n",
       "    <tr>\n",
       "      <th>3441</th>\n",
       "      <td>3D</td>\n",
       "      <td>Manufacturing</td>\n",
       "      <td>1</td>\n",
       "    </tr>\n",
       "    <tr>\n",
       "      <th>4129</th>\n",
       "      <td>3D</td>\n",
       "      <td>News, Search and Messaging</td>\n",
       "      <td>0</td>\n",
       "    </tr>\n",
       "    <tr>\n",
       "      <th>4817</th>\n",
       "      <td>3D</td>\n",
       "      <td>Others</td>\n",
       "      <td>0</td>\n",
       "    </tr>\n",
       "    <tr>\n",
       "      <th>5505</th>\n",
       "      <td>3D</td>\n",
       "      <td>Social, Finance, Analytics, Advertising</td>\n",
       "      <td>0</td>\n",
       "    </tr>\n",
       "  </tbody>\n",
       "</table>\n",
       "</div>"
      ],
      "text/plain": [
       "     primary_sector                              main_sector  value\n",
       "1                3D                      Automotive & Sports      0\n",
       "689              3D                                   Blanks      0\n",
       "1377             3D               Cleantech / Semiconductors      0\n",
       "2065             3D                            Entertainment      0\n",
       "2753             3D                                   Health      0\n",
       "3441             3D                            Manufacturing      1\n",
       "4129             3D               News, Search and Messaging      0\n",
       "4817             3D                                   Others      0\n",
       "5505             3D  Social, Finance, Analytics, Advertising      0"
      ]
     },
     "execution_count": 24,
     "metadata": {},
     "output_type": "execute_result"
    }
   ],
   "source": [
    "mapping=pd.melt(mapping, id_vars=['category_list'], value_vars=list(mapping.columns)[1:])\n",
    "mapping.rename(columns={\"category_list\":\"primary_sector\",\"variable\": \"main_sector\"}, inplace=True,errors=\"raise\")\n",
    "mapping.loc[mapping[\"primary_sector\"]==\"3D\"]"
   ]
  },
  {
   "cell_type": "markdown",
   "metadata": {},
   "source": [
    "- From the example of \"3D\" above, value = 0 are rows we don't need"
   ]
  },
  {
   "cell_type": "code",
   "execution_count": 25,
   "metadata": {},
   "outputs": [],
   "source": [
    "mapping=mapping.loc[mapping[\"value\"]!=0]"
   ]
  },
  {
   "cell_type": "markdown",
   "metadata": {},
   "source": [
    "- We don't need value column anymore"
   ]
  },
  {
   "cell_type": "code",
   "execution_count": 26,
   "metadata": {},
   "outputs": [],
   "source": [
    "mapping.drop(\"value\",axis=\"columns\",inplace=True)"
   ]
  },
  {
   "cell_type": "code",
   "execution_count": 27,
   "metadata": {},
   "outputs": [
    {
     "data": {
      "text/html": [
       "<div>\n",
       "<style scoped>\n",
       "    .dataframe tbody tr th:only-of-type {\n",
       "        vertical-align: middle;\n",
       "    }\n",
       "\n",
       "    .dataframe tbody tr th {\n",
       "        vertical-align: top;\n",
       "    }\n",
       "\n",
       "    .dataframe thead th {\n",
       "        text-align: right;\n",
       "    }\n",
       "</style>\n",
       "<table border=\"1\" class=\"dataframe\">\n",
       "  <thead>\n",
       "    <tr style=\"text-align: right;\">\n",
       "      <th></th>\n",
       "      <th>primary_sector</th>\n",
       "      <th>main_sector</th>\n",
       "    </tr>\n",
       "  </thead>\n",
       "  <tbody>\n",
       "    <tr>\n",
       "      <th>8</th>\n",
       "      <td>adventure travel</td>\n",
       "      <td>automotive &amp; sports</td>\n",
       "    </tr>\n",
       "    <tr>\n",
       "      <th>14</th>\n",
       "      <td>aerospace</td>\n",
       "      <td>automotive &amp; sports</td>\n",
       "    </tr>\n",
       "    <tr>\n",
       "      <th>45</th>\n",
       "      <td>auto</td>\n",
       "      <td>automotive &amp; sports</td>\n",
       "    </tr>\n",
       "    <tr>\n",
       "      <th>46</th>\n",
       "      <td>automated kiosk</td>\n",
       "      <td>automotive &amp; sports</td>\n",
       "    </tr>\n",
       "    <tr>\n",
       "      <th>47</th>\n",
       "      <td>automotive</td>\n",
       "      <td>automotive &amp; sports</td>\n",
       "    </tr>\n",
       "  </tbody>\n",
       "</table>\n",
       "</div>"
      ],
      "text/plain": [
       "      primary_sector          main_sector\n",
       "8   adventure travel  automotive & sports\n",
       "14         aerospace  automotive & sports\n",
       "45              auto  automotive & sports\n",
       "46   automated kiosk  automotive & sports\n",
       "47        automotive  automotive & sports"
      ]
     },
     "execution_count": 27,
     "metadata": {},
     "output_type": "execute_result"
    }
   ],
   "source": [
    "mapping[\"primary_sector\"]=mapping[\"primary_sector\"].str.lower()\n",
    "mapping[\"main_sector\"]=mapping[\"main_sector\"].str.lower()\n",
    "mapping.head()"
   ]
  },
  {
   "cell_type": "markdown",
   "metadata": {},
   "source": [
    "- Get primary_sector from category_list column in top9 dataframe\n",
    "  first value in category_list is the primary_sector"
   ]
  },
  {
   "cell_type": "code",
   "execution_count": 28,
   "metadata": {},
   "outputs": [
    {
     "data": {
      "text/html": [
       "<div>\n",
       "<style scoped>\n",
       "    .dataframe tbody tr th:only-of-type {\n",
       "        vertical-align: middle;\n",
       "    }\n",
       "\n",
       "    .dataframe tbody tr th {\n",
       "        vertical-align: top;\n",
       "    }\n",
       "\n",
       "    .dataframe thead th {\n",
       "        text-align: right;\n",
       "    }\n",
       "</style>\n",
       "<table border=\"1\" class=\"dataframe\">\n",
       "  <thead>\n",
       "    <tr style=\"text-align: right;\">\n",
       "      <th></th>\n",
       "      <th>company_permalink</th>\n",
       "      <th>funding_round_permalink</th>\n",
       "      <th>funding_round_type</th>\n",
       "      <th>funding_round_code</th>\n",
       "      <th>funded_at</th>\n",
       "      <th>raised_amount_usd</th>\n",
       "      <th>permalink</th>\n",
       "      <th>name</th>\n",
       "      <th>homepage_url</th>\n",
       "      <th>category_list</th>\n",
       "      <th>status</th>\n",
       "      <th>country_code</th>\n",
       "      <th>state_code</th>\n",
       "      <th>region</th>\n",
       "      <th>city</th>\n",
       "      <th>founded_at</th>\n",
       "      <th>primary_sector</th>\n",
       "    </tr>\n",
       "  </thead>\n",
       "  <tbody>\n",
       "    <tr>\n",
       "      <th>0</th>\n",
       "      <td>/organization/-fame</td>\n",
       "      <td>/funding-round/9a01d05418af9f794eebff7ace91f638</td>\n",
       "      <td>venture</td>\n",
       "      <td>B</td>\n",
       "      <td>05-01-2015</td>\n",
       "      <td>10.000000</td>\n",
       "      <td>/organization/-fame</td>\n",
       "      <td>#fame</td>\n",
       "      <td>http://livfame.com</td>\n",
       "      <td>Media</td>\n",
       "      <td>operating</td>\n",
       "      <td>IND</td>\n",
       "      <td>16</td>\n",
       "      <td>Mumbai</td>\n",
       "      <td>Mumbai</td>\n",
       "      <td>NaN</td>\n",
       "      <td>media</td>\n",
       "    </tr>\n",
       "    <tr>\n",
       "      <th>1</th>\n",
       "      <td>/organization/21diamonds-india</td>\n",
       "      <td>/funding-round/6de7ffef8091ba9f33821f4b861f434a</td>\n",
       "      <td>venture</td>\n",
       "      <td>C</td>\n",
       "      <td>15-11-2012</td>\n",
       "      <td>6.369507</td>\n",
       "      <td>/organization/21diamonds-india</td>\n",
       "      <td>21Diamonds</td>\n",
       "      <td>http://www.21diamonds.de</td>\n",
       "      <td>E-Commerce</td>\n",
       "      <td>operating</td>\n",
       "      <td>IND</td>\n",
       "      <td>10</td>\n",
       "      <td>New Delhi</td>\n",
       "      <td>Gurgaon</td>\n",
       "      <td>01-06-2012</td>\n",
       "      <td>e-commerce</td>\n",
       "    </tr>\n",
       "    <tr>\n",
       "      <th>2</th>\n",
       "      <td>/organization/247-learning-private</td>\n",
       "      <td>/funding-round/4cd5cd165bc869bc40705a9e4b626bee</td>\n",
       "      <td>venture</td>\n",
       "      <td>NaN</td>\n",
       "      <td>06-11-2007</td>\n",
       "      <td>4.000000</td>\n",
       "      <td>/organization/247-learning-private</td>\n",
       "      <td>24x7 Learning</td>\n",
       "      <td>http://www.24x7learning.com</td>\n",
       "      <td>EdTech|Education|Systems</td>\n",
       "      <td>operating</td>\n",
       "      <td>IND</td>\n",
       "      <td>19</td>\n",
       "      <td>Bangalore</td>\n",
       "      <td>Bangalore</td>\n",
       "      <td>01-01-2001</td>\n",
       "      <td>edtech</td>\n",
       "    </tr>\n",
       "    <tr>\n",
       "      <th>4</th>\n",
       "      <td>/organization/3dsoc</td>\n",
       "      <td>/funding-round/bbedf1410fddeed341018583bbd0ca1e</td>\n",
       "      <td>venture</td>\n",
       "      <td>A</td>\n",
       "      <td>01-12-2007</td>\n",
       "      <td>1.240000</td>\n",
       "      <td>/organization/3dsoc</td>\n",
       "      <td>3DSoC</td>\n",
       "      <td>http://www.3dsoc.com</td>\n",
       "      <td>3D|Mobile</td>\n",
       "      <td>operating</td>\n",
       "      <td>IND</td>\n",
       "      <td>19</td>\n",
       "      <td>Bangalore</td>\n",
       "      <td>Bangalore</td>\n",
       "      <td>01-06-2006</td>\n",
       "      <td>3d</td>\n",
       "    </tr>\n",
       "    <tr>\n",
       "      <th>5</th>\n",
       "      <td>/organization/3dsoc</td>\n",
       "      <td>/funding-round/da8918e533a7caf0df0dc8d3f506c0f8</td>\n",
       "      <td>venture</td>\n",
       "      <td>B</td>\n",
       "      <td>01-08-2010</td>\n",
       "      <td>0.825000</td>\n",
       "      <td>/organization/3dsoc</td>\n",
       "      <td>3DSoC</td>\n",
       "      <td>http://www.3dsoc.com</td>\n",
       "      <td>3D|Mobile</td>\n",
       "      <td>operating</td>\n",
       "      <td>IND</td>\n",
       "      <td>19</td>\n",
       "      <td>Bangalore</td>\n",
       "      <td>Bangalore</td>\n",
       "      <td>01-06-2006</td>\n",
       "      <td>3d</td>\n",
       "    </tr>\n",
       "  </tbody>\n",
       "</table>\n",
       "</div>"
      ],
      "text/plain": [
       "                    company_permalink  \\\n",
       "0                 /organization/-fame   \n",
       "1      /organization/21diamonds-india   \n",
       "2  /organization/247-learning-private   \n",
       "4                 /organization/3dsoc   \n",
       "5                 /organization/3dsoc   \n",
       "\n",
       "                           funding_round_permalink funding_round_type  \\\n",
       "0  /funding-round/9a01d05418af9f794eebff7ace91f638            venture   \n",
       "1  /funding-round/6de7ffef8091ba9f33821f4b861f434a            venture   \n",
       "2  /funding-round/4cd5cd165bc869bc40705a9e4b626bee            venture   \n",
       "4  /funding-round/bbedf1410fddeed341018583bbd0ca1e            venture   \n",
       "5  /funding-round/da8918e533a7caf0df0dc8d3f506c0f8            venture   \n",
       "\n",
       "  funding_round_code   funded_at  raised_amount_usd  \\\n",
       "0                  B  05-01-2015          10.000000   \n",
       "1                  C  15-11-2012           6.369507   \n",
       "2                NaN  06-11-2007           4.000000   \n",
       "4                  A  01-12-2007           1.240000   \n",
       "5                  B  01-08-2010           0.825000   \n",
       "\n",
       "                            permalink           name  \\\n",
       "0                 /organization/-fame          #fame   \n",
       "1      /organization/21diamonds-india     21Diamonds   \n",
       "2  /organization/247-learning-private  24x7 Learning   \n",
       "4                 /organization/3dsoc          3DSoC   \n",
       "5                 /organization/3dsoc          3DSoC   \n",
       "\n",
       "                  homepage_url             category_list     status  \\\n",
       "0           http://livfame.com                     Media  operating   \n",
       "1     http://www.21diamonds.de                E-Commerce  operating   \n",
       "2  http://www.24x7learning.com  EdTech|Education|Systems  operating   \n",
       "4         http://www.3dsoc.com                 3D|Mobile  operating   \n",
       "5         http://www.3dsoc.com                 3D|Mobile  operating   \n",
       "\n",
       "  country_code state_code     region       city  founded_at primary_sector  \n",
       "0          IND         16     Mumbai     Mumbai         NaN          media  \n",
       "1          IND         10  New Delhi    Gurgaon  01-06-2012     e-commerce  \n",
       "2          IND         19  Bangalore  Bangalore  01-01-2001         edtech  \n",
       "4          IND         19  Bangalore  Bangalore  01-06-2006             3d  \n",
       "5          IND         19  Bangalore  Bangalore  01-06-2006             3d  "
      ]
     },
     "execution_count": 28,
     "metadata": {},
     "output_type": "execute_result"
    }
   ],
   "source": [
    "top9[\"primary_sector\"]=top9[\"category_list\"].str.split(\"|\",1).str[0].str.lower()\n",
    "top9.head()"
   ]
  },
  {
   "cell_type": "markdown",
   "metadata": {},
   "source": [
    "- Join with mapping dataframe to get main_sector mapped for each row"
   ]
  },
  {
   "cell_type": "code",
   "execution_count": 29,
   "metadata": {},
   "outputs": [
    {
     "data": {
      "text/html": [
       "<div>\n",
       "<style scoped>\n",
       "    .dataframe tbody tr th:only-of-type {\n",
       "        vertical-align: middle;\n",
       "    }\n",
       "\n",
       "    .dataframe tbody tr th {\n",
       "        vertical-align: top;\n",
       "    }\n",
       "\n",
       "    .dataframe thead th {\n",
       "        text-align: right;\n",
       "    }\n",
       "</style>\n",
       "<table border=\"1\" class=\"dataframe\">\n",
       "  <thead>\n",
       "    <tr style=\"text-align: right;\">\n",
       "      <th></th>\n",
       "      <th>company_permalink</th>\n",
       "      <th>funding_round_permalink</th>\n",
       "      <th>funding_round_type</th>\n",
       "      <th>funding_round_code</th>\n",
       "      <th>funded_at</th>\n",
       "      <th>raised_amount_usd</th>\n",
       "      <th>permalink</th>\n",
       "      <th>name</th>\n",
       "      <th>homepage_url</th>\n",
       "      <th>category_list</th>\n",
       "      <th>status</th>\n",
       "      <th>country_code</th>\n",
       "      <th>state_code</th>\n",
       "      <th>region</th>\n",
       "      <th>city</th>\n",
       "      <th>founded_at</th>\n",
       "      <th>primary_sector</th>\n",
       "      <th>main_sector</th>\n",
       "    </tr>\n",
       "  </thead>\n",
       "  <tbody>\n",
       "    <tr>\n",
       "      <th>0</th>\n",
       "      <td>/organization/-fame</td>\n",
       "      <td>/funding-round/9a01d05418af9f794eebff7ace91f638</td>\n",
       "      <td>venture</td>\n",
       "      <td>B</td>\n",
       "      <td>05-01-2015</td>\n",
       "      <td>10.00</td>\n",
       "      <td>/organization/-fame</td>\n",
       "      <td>#fame</td>\n",
       "      <td>http://livfame.com</td>\n",
       "      <td>Media</td>\n",
       "      <td>operating</td>\n",
       "      <td>IND</td>\n",
       "      <td>16</td>\n",
       "      <td>Mumbai</td>\n",
       "      <td>Mumbai</td>\n",
       "      <td>NaN</td>\n",
       "      <td>media</td>\n",
       "      <td>entertainment</td>\n",
       "    </tr>\n",
       "    <tr>\n",
       "      <th>1</th>\n",
       "      <td>/organization/manas-informatics</td>\n",
       "      <td>/funding-round/719e50301803d3918ffa558fc877e41c</td>\n",
       "      <td>venture</td>\n",
       "      <td>NaN</td>\n",
       "      <td>02-02-2008</td>\n",
       "      <td>0.16</td>\n",
       "      <td>/organization/manas-informatics</td>\n",
       "      <td>Manas Informatic</td>\n",
       "      <td>http://www.topnews.in</td>\n",
       "      <td>Media|News</td>\n",
       "      <td>operating</td>\n",
       "      <td>IND</td>\n",
       "      <td>23</td>\n",
       "      <td>Mohali</td>\n",
       "      <td>Mohali</td>\n",
       "      <td>05-05-2007</td>\n",
       "      <td>media</td>\n",
       "      <td>entertainment</td>\n",
       "    </tr>\n",
       "    <tr>\n",
       "      <th>2</th>\n",
       "      <td>/organization/all-def-digital</td>\n",
       "      <td>/funding-round/452a2342fe720285c3b92e9bd927d9ba</td>\n",
       "      <td>venture</td>\n",
       "      <td>A</td>\n",
       "      <td>06-08-2014</td>\n",
       "      <td>5.00</td>\n",
       "      <td>/organization/all-def-digital</td>\n",
       "      <td>All Def Digital</td>\n",
       "      <td>http://alldefdigital.com</td>\n",
       "      <td>Media</td>\n",
       "      <td>operating</td>\n",
       "      <td>USA</td>\n",
       "      <td>CA</td>\n",
       "      <td>Los Angeles</td>\n",
       "      <td>Los Angeles</td>\n",
       "      <td>NaN</td>\n",
       "      <td>media</td>\n",
       "      <td>entertainment</td>\n",
       "    </tr>\n",
       "    <tr>\n",
       "      <th>3</th>\n",
       "      <td>/organization/audiosocket</td>\n",
       "      <td>/funding-round/0959f59e3a89bc8db8c6ed9c646349fd</td>\n",
       "      <td>venture</td>\n",
       "      <td>NaN</td>\n",
       "      <td>02-05-2013</td>\n",
       "      <td>0.65</td>\n",
       "      <td>/organization/audiosocket</td>\n",
       "      <td>Audiosocket</td>\n",
       "      <td>http://audiosocket.com</td>\n",
       "      <td>Media|Music|Technology</td>\n",
       "      <td>operating</td>\n",
       "      <td>USA</td>\n",
       "      <td>WA</td>\n",
       "      <td>Seattle</td>\n",
       "      <td>Seattle</td>\n",
       "      <td>01-05-2008</td>\n",
       "      <td>media</td>\n",
       "      <td>entertainment</td>\n",
       "    </tr>\n",
       "    <tr>\n",
       "      <th>4</th>\n",
       "      <td>/organization/audiosocket</td>\n",
       "      <td>/funding-round/4e3a53eec6c609943df752206070b23f</td>\n",
       "      <td>venture</td>\n",
       "      <td>A</td>\n",
       "      <td>02-09-2009</td>\n",
       "      <td>0.75</td>\n",
       "      <td>/organization/audiosocket</td>\n",
       "      <td>Audiosocket</td>\n",
       "      <td>http://audiosocket.com</td>\n",
       "      <td>Media|Music|Technology</td>\n",
       "      <td>operating</td>\n",
       "      <td>USA</td>\n",
       "      <td>WA</td>\n",
       "      <td>Seattle</td>\n",
       "      <td>Seattle</td>\n",
       "      <td>01-05-2008</td>\n",
       "      <td>media</td>\n",
       "      <td>entertainment</td>\n",
       "    </tr>\n",
       "  </tbody>\n",
       "</table>\n",
       "</div>"
      ],
      "text/plain": [
       "                 company_permalink  \\\n",
       "0              /organization/-fame   \n",
       "1  /organization/manas-informatics   \n",
       "2    /organization/all-def-digital   \n",
       "3        /organization/audiosocket   \n",
       "4        /organization/audiosocket   \n",
       "\n",
       "                           funding_round_permalink funding_round_type  \\\n",
       "0  /funding-round/9a01d05418af9f794eebff7ace91f638            venture   \n",
       "1  /funding-round/719e50301803d3918ffa558fc877e41c            venture   \n",
       "2  /funding-round/452a2342fe720285c3b92e9bd927d9ba            venture   \n",
       "3  /funding-round/0959f59e3a89bc8db8c6ed9c646349fd            venture   \n",
       "4  /funding-round/4e3a53eec6c609943df752206070b23f            venture   \n",
       "\n",
       "  funding_round_code   funded_at  raised_amount_usd  \\\n",
       "0                  B  05-01-2015              10.00   \n",
       "1                NaN  02-02-2008               0.16   \n",
       "2                  A  06-08-2014               5.00   \n",
       "3                NaN  02-05-2013               0.65   \n",
       "4                  A  02-09-2009               0.75   \n",
       "\n",
       "                         permalink              name  \\\n",
       "0              /organization/-fame             #fame   \n",
       "1  /organization/manas-informatics  Manas Informatic   \n",
       "2    /organization/all-def-digital   All Def Digital   \n",
       "3        /organization/audiosocket       Audiosocket   \n",
       "4        /organization/audiosocket       Audiosocket   \n",
       "\n",
       "               homepage_url           category_list     status country_code  \\\n",
       "0        http://livfame.com                   Media  operating          IND   \n",
       "1     http://www.topnews.in              Media|News  operating          IND   \n",
       "2  http://alldefdigital.com                   Media  operating          USA   \n",
       "3    http://audiosocket.com  Media|Music|Technology  operating          USA   \n",
       "4    http://audiosocket.com  Media|Music|Technology  operating          USA   \n",
       "\n",
       "  state_code       region         city  founded_at primary_sector  \\\n",
       "0         16       Mumbai       Mumbai         NaN          media   \n",
       "1         23       Mohali       Mohali  05-05-2007          media   \n",
       "2         CA  Los Angeles  Los Angeles         NaN          media   \n",
       "3         WA      Seattle      Seattle  01-05-2008          media   \n",
       "4         WA      Seattle      Seattle  01-05-2008          media   \n",
       "\n",
       "     main_sector  \n",
       "0  entertainment  \n",
       "1  entertainment  \n",
       "2  entertainment  \n",
       "3  entertainment  \n",
       "4  entertainment  "
      ]
     },
     "execution_count": 29,
     "metadata": {},
     "output_type": "execute_result"
    }
   ],
   "source": [
    "top9 = pd.merge(top9,mapping,on=\"primary_sector\",how=\"inner\")\n",
    "top9.head()"
   ]
  },
  {
   "cell_type": "markdown",
   "metadata": {},
   "source": [
    "- Create D1, D2, D3 with data for top 3 countires "
   ]
  },
  {
   "cell_type": "code",
   "execution_count": 30,
   "metadata": {},
   "outputs": [],
   "source": [
    "D1 = top9.loc[(top9[\"country_code\"]==top_countries.index[0]) & (top9[\"raised_amount_usd\"] >= 5) & (top9[\"raised_amount_usd\"] <= 15)]\n",
    "D2 = top9.loc[(top9[\"country_code\"]==top_countries.index[1]) & (top9[\"raised_amount_usd\"] >= 5) & (top9[\"raised_amount_usd\"] <= 15)]\n",
    "D3 = top9.loc[(top9[\"country_code\"]==top_countries.index[2]) & (top9[\"raised_amount_usd\"] >= 5) & (top9[\"raised_amount_usd\"] <= 15)]\n",
    "\n",
    "# Add sum/count of investments grouped on main sector as separate columns\n",
    "def add_aggregate_cols(df):\n",
    "    dsum=df.groupby('main_sector')[\"raised_amount_usd\"].sum().reset_index().rename(columns={\"raised_amount_usd\":\"sum_invested\"})\n",
    "    dcount=df.groupby('main_sector')[\"permalink\"].count().reset_index().rename(columns={\"permalink\":\"count_invested\"})\n",
    "    df=pd.merge(df,dsum, on=\"main_sector\", how=\"inner\")\n",
    "    df=pd.merge(df,dcount, on=\"main_sector\", how=\"inner\")\n",
    "    return(df)\n",
    "\n",
    "D1=add_aggregate_cols(D1)\n",
    "D2=add_aggregate_cols(D2)\n",
    "D3=add_aggregate_cols(D3)"
   ]
  },
  {
   "cell_type": "code",
   "execution_count": 31,
   "metadata": {},
   "outputs": [
    {
     "data": {
      "text/plain": [
       "count     11149\n",
       "unique        1\n",
       "top         USA\n",
       "freq      11149\n",
       "Name: country_code, dtype: object"
      ]
     },
     "execution_count": 31,
     "metadata": {},
     "output_type": "execute_result"
    }
   ],
   "source": [
    "D1[\"country_code\"].describe()"
   ]
  },
  {
   "cell_type": "code",
   "execution_count": 32,
   "metadata": {},
   "outputs": [
    {
     "data": {
      "text/plain": [
       "count     577\n",
       "unique      1\n",
       "top       GBR\n",
       "freq      577\n",
       "Name: country_code, dtype: object"
      ]
     },
     "execution_count": 32,
     "metadata": {},
     "output_type": "execute_result"
    }
   ],
   "source": [
    "D2[\"country_code\"].describe()"
   ]
  },
  {
   "cell_type": "code",
   "execution_count": 33,
   "metadata": {},
   "outputs": [
    {
     "data": {
      "text/plain": [
       "count     299\n",
       "unique      1\n",
       "top       IND\n",
       "freq      299\n",
       "Name: country_code, dtype: object"
      ]
     },
     "execution_count": 33,
     "metadata": {},
     "output_type": "execute_result"
    }
   ],
   "source": [
    "D3[\"country_code\"].describe()"
   ]
  },
  {
   "cell_type": "markdown",
   "metadata": {},
   "source": [
    "- <font color=blue>__Total number of investments (count)__</font>"
   ]
  },
  {
   "cell_type": "code",
   "execution_count": 35,
   "metadata": {},
   "outputs": [
    {
     "name": "stdout",
     "output_type": "stream",
     "text": [
      "USA:  11149 \n",
      "GBR:  577 \n",
      "IND:  299\n"
     ]
    }
   ],
   "source": [
    "print(\"USA: \", len(D1), \"\\nGBR: \", len(D2), \"\\nIND: \", len(D3))"
   ]
  },
  {
   "cell_type": "markdown",
   "metadata": {},
   "source": [
    "- <font color=blue>__Total amount of investments (USD in millions)__</font>"
   ]
  },
  {
   "cell_type": "code",
   "execution_count": 36,
   "metadata": {},
   "outputs": [
    {
     "name": "stdout",
     "output_type": "stream",
     "text": [
      "USA:  99661524549.0 \n",
      "GBR:  5028704358.0 \n",
      "IND:  2683537552.0\n"
     ]
    }
   ],
   "source": [
    "print(\"USA: \", round(D1[\"raised_amount_usd\"].sum()*1000000,0), \n",
    "      \"\\nGBR: \", round(D2[\"raised_amount_usd\"].sum()*1000000,0), \n",
    "      \"\\nIND: \", round(D3[\"raised_amount_usd\"].sum()*1000000,0))"
   ]
  },
  {
   "cell_type": "markdown",
   "metadata": {},
   "source": [
    "- <font color=blue>__Top sector (based on count of investments)__</font>"
   ]
  },
  {
   "cell_type": "code",
   "execution_count": 37,
   "metadata": {},
   "outputs": [
    {
     "name": "stdout",
     "output_type": "stream",
     "text": [
      "USA:  others \n",
      "GBR:  others \n",
      "IND:  others\n"
     ]
    }
   ],
   "source": [
    "D1sects=D1.groupby(\"main_sector\").count().sort_values(by=\"permalink\", ascending=False)\n",
    "D2sects=D2.groupby(\"main_sector\").count().sort_values(by=\"permalink\", ascending=False)\n",
    "D3sects=D3.groupby(\"main_sector\").count().sort_values(by=\"permalink\", ascending=False)\n",
    "print(\"USA: \", D1sects.index[0], \"\\nGBR: \", D2sects.index[0], \"\\nIND: \", D3sects.index[0])"
   ]
  },
  {
   "cell_type": "markdown",
   "metadata": {},
   "source": [
    "- <font color=blue>__Second-best sector (based on count of investments)__</font>"
   ]
  },
  {
   "cell_type": "code",
   "execution_count": 38,
   "metadata": {},
   "outputs": [
    {
     "name": "stdout",
     "output_type": "stream",
     "text": [
      "USA:  cleantech / semiconductors \n",
      "GBR:  cleantech / semiconductors \n",
      "IND:  news, search and messaging\n"
     ]
    }
   ],
   "source": [
    "print(\"USA: \", D1sects.index[1], \"\\nGBR: \", D2sects.index[1], \"\\nIND: \", D3sects.index[1])"
   ]
  },
  {
   "cell_type": "markdown",
   "metadata": {},
   "source": [
    "- <font color=blue>__Third-best sector (based on count of investments)__</font>"
   ]
  },
  {
   "cell_type": "code",
   "execution_count": 39,
   "metadata": {},
   "outputs": [
    {
     "name": "stdout",
     "output_type": "stream",
     "text": [
      "USA:  social, finance, analytics, advertising \n",
      "GBR:  social, finance, analytics, advertising \n",
      "IND:  entertainment\n"
     ]
    }
   ],
   "source": [
    "print(\"USA: \", D1sects.index[2], \"\\nGBR: \", D2sects.index[2], \"\\nIND: \", D3sects.index[2])"
   ]
  },
  {
   "cell_type": "markdown",
   "metadata": {},
   "source": [
    "- <font color=blue>__Number of investments in the top sector__</font>"
   ]
  },
  {
   "cell_type": "code",
   "execution_count": 40,
   "metadata": {},
   "outputs": [
    {
     "name": "stdout",
     "output_type": "stream",
     "text": [
      "USA:  2923 \n",
      "GBR:  143 \n",
      "IND:  109\n"
     ]
    }
   ],
   "source": [
    "\n",
    "print(\"USA: \", D1sects.reset_index()[\"permalink\"][0], \n",
    "      \"\\nGBR: \", D2sects.reset_index()[\"permalink\"][0], \n",
    "      \"\\nIND: \", D3sects.reset_index()[\"permalink\"][0])"
   ]
  },
  {
   "cell_type": "markdown",
   "metadata": {},
   "source": [
    "- <font color=blue>__Number of investments in the second-best sector__</font>"
   ]
  },
  {
   "cell_type": "code",
   "execution_count": 41,
   "metadata": {},
   "outputs": [
    {
     "name": "stdout",
     "output_type": "stream",
     "text": [
      "USA:  2297 \n",
      "GBR:  127 \n",
      "IND:  52\n"
     ]
    }
   ],
   "source": [
    "\n",
    "print(\"USA: \", D1sects.reset_index()[\"permalink\"][1], \n",
    "      \"\\nGBR: \", D2sects.reset_index()[\"permalink\"][1], \n",
    "      \"\\nIND: \", D3sects.reset_index()[\"permalink\"][1])"
   ]
  },
  {
   "cell_type": "markdown",
   "metadata": {},
   "source": [
    "- <font color=blue>__Number of investments in the third-best sector__</font>"
   ]
  },
  {
   "cell_type": "code",
   "execution_count": 42,
   "metadata": {},
   "outputs": [
    {
     "name": "stdout",
     "output_type": "stream",
     "text": [
      "USA:  1912 \n",
      "GBR:  98 \n",
      "IND:  33\n"
     ]
    }
   ],
   "source": [
    "\n",
    "print(\"USA: \", D1sects.reset_index()[\"permalink\"][2], \n",
    "      \"\\nGBR: \", D2sects.reset_index()[\"permalink\"][2], \n",
    "      \"\\nIND: \", D3sects.reset_index()[\"permalink\"][2])"
   ]
  },
  {
   "cell_type": "markdown",
   "metadata": {},
   "source": [
    "- <font color=blue>__For the top sector count-wise (point 3), which company received the highest investment__</font>"
   ]
  },
  {
   "cell_type": "code",
   "execution_count": 56,
   "metadata": {},
   "outputs": [
    {
     "name": "stdout",
     "output_type": "stream",
     "text": [
      "USA:\n",
      " ['Black Duck Software', 'Capella Photonics', 'Virtustream']\n",
      "GBR:\n",
      " ['Electric Cloud', 'SenSage']\n",
      "IND:\n",
      " ['Myntra']\n"
     ]
    }
   ],
   "source": [
    "# params: dataframe, sector name, position (top nth)\n",
    "# This function will return top nth company of a given sector\n",
    "def getmaxcompany(df,sector,pos):\n",
    "    \n",
    "    # get the sector, group by permalink & name (since we need company name)\n",
    "    dcompany=df.loc[df[\"main_sector\"]==sector].groupby([\"permalink\",\"name\"]).count().reset_index()\n",
    "    \n",
    "    # Filter out top n-1 \n",
    "    for i in range(1,pos):\n",
    "        dmax=dcompany[\"company_permalink\"].max()\n",
    "        dcompany=dcompany.loc[dcompany[\"company_permalink\"]!=dmax]\n",
    "    \n",
    "    # return the current top companies\n",
    "    dmax=dcompany[\"company_permalink\"].max()\n",
    "    return(dcompany.loc[dcompany[\"company_permalink\"]==dmax].name.to_list())\n",
    "\n",
    "print(\"USA:\\n\", getmaxcompany(D1,\"others\",1))\n",
    "\n",
    "print(\"GBR:\\n\", getmaxcompany(D2,\"others\",1))\n",
    "\n",
    "print(\"IND:\\n\", getmaxcompany(D3,\"others\",1))"
   ]
  },
  {
   "cell_type": "markdown",
   "metadata": {},
   "source": [
    "- <font color=blue>__For the second-best sector count-wise (point 4), which company received the highest investment?__</font>"
   ]
  },
  {
   "cell_type": "code",
   "execution_count": 44,
   "metadata": {},
   "outputs": [
    {
     "name": "stdout",
     "output_type": "stream",
     "text": [
      "USA:\n",
      " ['Biodesix', 'Tigo Energy']\n",
      "GBR:\n",
      " ['EUSA Pharma', 'F-star Biotechnology Limited', 'Horizon Discovery']\n",
      "IND:\n",
      " ['GupShup']\n"
     ]
    }
   ],
   "source": [
    "print(\"USA:\\n\", getmaxcompany(D1,\"cleantech / semiconductors\",1))\n",
    "\n",
    "print(\"GBR:\\n\", getmaxcompany(D2,\"cleantech / semiconductors\",1))\n",
    "\n",
    "print(\"IND:\\n\", getmaxcompany(D3,\"news, search and messaging\",1))"
   ]
  },
  {
   "cell_type": "markdown",
   "metadata": {},
   "source": [
    "- Define a function for creating similar plots"
   ]
  },
  {
   "cell_type": "code",
   "execution_count": 45,
   "metadata": {},
   "outputs": [],
   "source": [
    "# params: \n",
    "# figure number, dataframe, x-value name, y-value name, chart title, x axis title, y axis title, if log scale to be used\n",
    "\n",
    "def plotit(fign, df, xval,yval, title, xtitle, ytitle, yscale):\n",
    "    plt.figure(num=fign, figsize=(20,12))\n",
    "    plot1 = sns.barplot(x=xval, y=yval, data=df)\n",
    "    plot1.set_title(title,fontsize=20, color=\"blue\")\n",
    "    plot1.set_xlabel(xtitle, fontsize=12,color=\"green\", weight=\"bold\")\n",
    "    plot1.set_ylabel(ytitle, fontsize=12,color=\"green\", weight=\"bold\")\n",
    "    for index, row in df.iterrows():\n",
    "        plot1.text(row.name,row.raised_amount_usd, round(row.raised_amount_usd,2), color='black', ha=\"center\",\n",
    "                    fontsize=14, weight=\"bold\")\n",
    "\n",
    "\n",
    "    if yscale:\n",
    "        plt.yscale(\"log\")\n",
    "    plt.show()"
   ]
  },
  {
   "cell_type": "markdown",
   "metadata": {},
   "source": [
    "- <font color=blue>__Plots required for Spark Funds LLC CEO__</font>"
   ]
  },
  {
   "cell_type": "code",
   "execution_count": 46,
   "metadata": {},
   "outputs": [
    {
     "data": {
      "image/png": "[encoded data removed]",
      "text/plain": [
       "<Figure size 1440x864 with 1 Axes>"
      ]
     },
     "metadata": {
      "needs_background": "light"
     },
     "output_type": "display_data"
    },
    {
     "data": {
      "text/html": [
       "<div>\n",
       "<style scoped>\n",
       "    .dataframe tbody tr th:only-of-type {\n",
       "        vertical-align: middle;\n",
       "    }\n",
       "\n",
       "    .dataframe tbody tr th {\n",
       "        vertical-align: top;\n",
       "    }\n",
       "\n",
       "    .dataframe thead th {\n",
       "        text-align: right;\n",
       "    }\n",
       "</style>\n",
       "<table border=\"1\" class=\"dataframe\">\n",
       "  <thead>\n",
       "    <tr style=\"text-align: right;\">\n",
       "      <th></th>\n",
       "      <th>funding_round_type</th>\n",
       "      <th>raised_amount_usd</th>\n",
       "    </tr>\n",
       "  </thead>\n",
       "  <tbody>\n",
       "    <tr>\n",
       "      <th>0</th>\n",
       "      <td>venture</td>\n",
       "      <td>81.012301</td>\n",
       "    </tr>\n",
       "    <tr>\n",
       "      <th>1</th>\n",
       "      <td>private_equity</td>\n",
       "      <td>16.286996</td>\n",
       "    </tr>\n",
       "    <tr>\n",
       "      <th>2</th>\n",
       "      <td>seed</td>\n",
       "      <td>2.242313</td>\n",
       "    </tr>\n",
       "    <tr>\n",
       "      <th>3</th>\n",
       "      <td>angel</td>\n",
       "      <td>0.458390</td>\n",
       "    </tr>\n",
       "  </tbody>\n",
       "</table>\n",
       "</div>"
      ],
      "text/plain": [
       "  funding_round_type  raised_amount_usd\n",
       "0            venture          81.012301\n",
       "1     private_equity          16.286996\n",
       "2               seed           2.242313\n",
       "3              angel           0.458390"
      ]
     },
     "execution_count": 46,
     "metadata": {},
     "output_type": "execute_result"
    }
   ],
   "source": [
    "total_invest = master_frame[\"raised_amount_usd\"].sum()\n",
    "fundtype = master_frame.loc[master_frame[\"funding_round_type\"].isin([\"venture\",\"angel\",\"seed\",\"private_equity\"])]\n",
    "fundtype = fundtype.groupby(\"funding_round_type\").sum()/total_invest*100\n",
    "fundtype = fundtype.sort_values(by=\"raised_amount_usd\", ascending=False)\n",
    "fundtype.reset_index(inplace=True)\n",
    "\n",
    "plt.show()\n",
    "plotit(5,fundtype, \"funding_round_type\", \"raised_amount_usd\",\n",
    "      \"Fraction of global investments - by funding type\",\n",
    "      \"Funding type\", \"Fraction of investments\",\n",
    "      True)\n",
    "fundtype.head()"
   ]
  },
  {
   "cell_type": "code",
   "execution_count": 47,
   "metadata": {},
   "outputs": [
    {
     "data": {
      "image/png": "[encoded data removed]",
      "text/plain": [
       "<Figure size 1440x864 with 1 Axes>"
      ]
     },
     "metadata": {
      "needs_background": "light"
     },
     "output_type": "display_data"
    },
    {
     "data": {
      "text/html": [
       "<div>\n",
       "<style scoped>\n",
       "    .dataframe tbody tr th:only-of-type {\n",
       "        vertical-align: middle;\n",
       "    }\n",
       "\n",
       "    .dataframe tbody tr th {\n",
       "        vertical-align: top;\n",
       "    }\n",
       "\n",
       "    .dataframe thead th {\n",
       "        text-align: right;\n",
       "    }\n",
       "</style>\n",
       "<table border=\"1\" class=\"dataframe\">\n",
       "  <thead>\n",
       "    <tr style=\"text-align: right;\">\n",
       "      <th></th>\n",
       "      <th>country_code</th>\n",
       "      <th>raised_amount_usd</th>\n",
       "    </tr>\n",
       "  </thead>\n",
       "  <tbody>\n",
       "    <tr>\n",
       "      <th>0</th>\n",
       "      <td>USA</td>\n",
       "      <td>392237.581395</td>\n",
       "    </tr>\n",
       "    <tr>\n",
       "      <th>1</th>\n",
       "      <td>GBR</td>\n",
       "      <td>18924.390319</td>\n",
       "    </tr>\n",
       "    <tr>\n",
       "      <th>2</th>\n",
       "      <td>IND</td>\n",
       "      <td>13537.981235</td>\n",
       "    </tr>\n",
       "    <tr>\n",
       "      <th>3</th>\n",
       "      <td>CAN</td>\n",
       "      <td>8715.620524</td>\n",
       "    </tr>\n",
       "    <tr>\n",
       "      <th>4</th>\n",
       "      <td>SGP</td>\n",
       "      <td>2629.189456</td>\n",
       "    </tr>\n",
       "    <tr>\n",
       "      <th>5</th>\n",
       "      <td>IRL</td>\n",
       "      <td>1626.264771</td>\n",
       "    </tr>\n",
       "    <tr>\n",
       "      <th>6</th>\n",
       "      <td>AUS</td>\n",
       "      <td>1241.084375</td>\n",
       "    </tr>\n",
       "    <tr>\n",
       "      <th>7</th>\n",
       "      <td>ZAF</td>\n",
       "      <td>222.163106</td>\n",
       "    </tr>\n",
       "  </tbody>\n",
       "</table>\n",
       "</div>"
      ],
      "text/plain": [
       "  country_code  raised_amount_usd\n",
       "0          USA      392237.581395\n",
       "1          GBR       18924.390319\n",
       "2          IND       13537.981235\n",
       "3          CAN        8715.620524\n",
       "4          SGP        2629.189456\n",
       "5          IRL        1626.264771\n",
       "6          AUS        1241.084375\n",
       "7          ZAF         222.163106"
      ]
     },
     "execution_count": 47,
     "metadata": {},
     "output_type": "execute_result"
    }
   ],
   "source": [
    "top9_invested = top9.groupby(\"country_code\").sum()\n",
    "top9_invested = top9_invested.sort_values(by=\"raised_amount_usd\",ascending=False)\n",
    "top9_invested.reset_index(inplace=True)\n",
    "plotit(6,top9_invested, \"country_code\", \"raised_amount_usd\",\n",
    "      \"Top 9 countries - by total investment\",\n",
    "      \"Country\", \"Total investments\",\n",
    "      True)\n",
    "top9_invested.loc[:,[\"country_code\",\"raised_amount_usd\"]]"
   ]
  },
  {
   "cell_type": "code",
   "execution_count": 52,
   "metadata": {},
   "outputs": [
    {
     "data": {
      "image/png": "[encoded data removed]",
      "text/plain": [
       "<Figure size 1296x864 with 1 Axes>"
      ]
     },
     "metadata": {
      "needs_background": "light"
     },
     "output_type": "display_data"
    },
    {
     "data": {
      "text/html": [
       "<div>\n",
       "<style scoped>\n",
       "    .dataframe tbody tr th:only-of-type {\n",
       "        vertical-align: middle;\n",
       "    }\n",
       "\n",
       "    .dataframe tbody tr th {\n",
       "        vertical-align: top;\n",
       "    }\n",
       "\n",
       "    .dataframe thead th {\n",
       "        text-align: right;\n",
       "    }\n",
       "</style>\n",
       "<table border=\"1\" class=\"dataframe\">\n",
       "  <thead>\n",
       "    <tr style=\"text-align: right;\">\n",
       "      <th></th>\n",
       "      <th>country_code</th>\n",
       "      <th>main_sector</th>\n",
       "      <th>permalink</th>\n",
       "    </tr>\n",
       "  </thead>\n",
       "  <tbody>\n",
       "    <tr>\n",
       "      <th>0</th>\n",
       "      <td>USA</td>\n",
       "      <td>others</td>\n",
       "      <td>2923</td>\n",
       "    </tr>\n",
       "    <tr>\n",
       "      <th>1</th>\n",
       "      <td>USA</td>\n",
       "      <td>cleantech / semiconductors</td>\n",
       "      <td>2297</td>\n",
       "    </tr>\n",
       "    <tr>\n",
       "      <th>2</th>\n",
       "      <td>USA</td>\n",
       "      <td>social, finance, analytics, advertising</td>\n",
       "      <td>1912</td>\n",
       "    </tr>\n",
       "    <tr>\n",
       "      <th>3</th>\n",
       "      <td>GBR</td>\n",
       "      <td>others</td>\n",
       "      <td>143</td>\n",
       "    </tr>\n",
       "    <tr>\n",
       "      <th>4</th>\n",
       "      <td>GBR</td>\n",
       "      <td>cleantech / semiconductors</td>\n",
       "      <td>127</td>\n",
       "    </tr>\n",
       "    <tr>\n",
       "      <th>5</th>\n",
       "      <td>GBR</td>\n",
       "      <td>social, finance, analytics, advertising</td>\n",
       "      <td>98</td>\n",
       "    </tr>\n",
       "    <tr>\n",
       "      <th>6</th>\n",
       "      <td>IND</td>\n",
       "      <td>others</td>\n",
       "      <td>109</td>\n",
       "    </tr>\n",
       "    <tr>\n",
       "      <th>7</th>\n",
       "      <td>IND</td>\n",
       "      <td>news, search and messaging</td>\n",
       "      <td>52</td>\n",
       "    </tr>\n",
       "    <tr>\n",
       "      <th>8</th>\n",
       "      <td>IND</td>\n",
       "      <td>entertainment</td>\n",
       "      <td>33</td>\n",
       "    </tr>\n",
       "  </tbody>\n",
       "</table>\n",
       "</div>"
      ],
      "text/plain": [
       "  country_code                              main_sector  permalink\n",
       "0          USA                                   others       2923\n",
       "1          USA               cleantech / semiconductors       2297\n",
       "2          USA  social, finance, analytics, advertising       1912\n",
       "3          GBR                                   others        143\n",
       "4          GBR               cleantech / semiconductors        127\n",
       "5          GBR  social, finance, analytics, advertising         98\n",
       "6          IND                                   others        109\n",
       "7          IND               news, search and messaging         52\n",
       "8          IND                            entertainment         33"
      ]
     },
     "execution_count": 52,
     "metadata": {},
     "output_type": "execute_result"
    }
   ],
   "source": [
    "from math import isnan\n",
    "\n",
    "# Get top3 sectors from D1, D2 & D3 into top3\n",
    "top3 = D1.groupby([\"country_code\",\"main_sector\"]).count().reset_index().\\\n",
    "       sort_values(by=\"raised_amount_usd\", ascending=False)[:3]\n",
    "top3 = top3.append( D2.groupby([\"country_code\",\"main_sector\"]).count().reset_index().\\\n",
    "       sort_values(by=\"raised_amount_usd\", ascending=False)[:3],\n",
    "           ignore_index=True)\n",
    "top3 = top3.append(D3.groupby([\"country_code\",\"main_sector\"]).count().reset_index().\\\n",
    "       sort_values(by=\"raised_amount_usd\", ascending=False)[:3],\n",
    "           ignore_index=True)\n",
    " \n",
    "fig=plt.figure(num=9, figsize=(18,12))\n",
    "sectwise = sns.barplot(x=\"country_code\", y=\"raised_amount_usd\", hue=\"main_sector\",data=top3)\n",
    "sectwise.set_title(\"Top 3 main sectors - Top 3 countries\",fontsize=20, color=\"blue\")\n",
    "sectwise.set_xlabel(\"Country / Main Sector\", fontsize=12,color=\"green\", weight=\"bold\")\n",
    "sectwise.set_ylabel(\"Number of investments\", fontsize=12,color=\"green\", weight=\"bold\")\n",
    "plt.yscale(\"log\")\n",
    "ax = plt.gca()\n",
    "\n",
    "# ylim max value to be set\n",
    "ax.set_ylim((pow(10,0),pow(10,4)))\n",
    "nanone = lambda x : 1 if isnan(x) else x\n",
    "nanzero = lambda x : 0 if isnan(x) else x\n",
    "# Iterate through the list of axes' patches\n",
    "for p in ax.patches:\n",
    "    ax.text(p.get_x() + p.get_width()/2., nanone(p.get_height()), '%d' % int(nanzero(p.get_height())), \n",
    "            fontsize=12, color='red', ha='center', va='bottom')\n",
    "\n",
    "#plt.yscale(\"log\")\n",
    "\n",
    "plt.show()\n",
    "top3.loc[:,[\"country_code\",\"main_sector\",\"permalink\"]]"
   ]
  },
  {
   "cell_type": "markdown",
   "metadata": {},
   "source": [
    "- Since there are 5 different sectors in total, bar plot show blanks for sectors not present for the country. <br>\n",
    "This seemed the best way to represent it visually, hence going with barplot/hue "
   ]
  },
  {
   "cell_type": "code",
   "execution_count": null,
   "metadata": {},
   "outputs": [],
   "source": []
  }
 ],
 "metadata": {
  "kernelspec": {
   "display_name": "Python 3",
   "language": "python",
   "name": "python3"
  },
  "language_info": {
   "codemirror_mode": {
    "name": "ipython",
    "version": 3
   },
   "file_extension": ".py",
   "mimetype": "text/x-python",
   "name": "python",
   "nbconvert_exporter": "python",
   "pygments_lexer": "ipython3",
   "version": "3.7.6"
  }
 },
 "nbformat": 4,
 "nbformat_minor": 4
}
